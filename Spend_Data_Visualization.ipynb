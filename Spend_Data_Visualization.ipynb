{
 "cells": [
  {
   "cell_type": "markdown",
   "metadata": {},
   "source": [
    "# Spend Analytics Chart Prototypes\n",
    "\n",
    "Throughout 2024 at Airflip, I prototyped spend analytics charts and dashboards using Python and Metabase to support engineering implementation. While the data used here is for testing purposes, these dashboards and visualizations are designed to help procurement teams analyze and investigate their company's actual spending data effectively.\n",
    "\n",
    "This example utilizes a coffee shop's spending data across various categories, including inventory, supplies, and equipment. It showcases hierarchical visualizations, spending patterns, and detailed category breakdowns.\n"
   ]
  },
  {
   "cell_type": "code",
   "execution_count": 18,
   "metadata": {},
   "outputs": [],
   "source": [
    "import requests\n",
    "import pandas as pd\n",
    "import matplotlib.pyplot as plt\n",
    "import plotly.graph_objects as go\n",
    "import plotly.express as px\n",
    "import numpy as np\n",
    "from ipywidgets import Dropdown, Button, VBox, HBox, Output\n",
    "from itables import init_notebook_mode, show\n"
   ]
  },
  {
   "cell_type": "code",
   "execution_count": 19,
   "metadata": {},
   "outputs": [],
   "source": [
    "coffee_shop_spend = {\n",
    "  \"spend_items\": [\n",
    "    {\n",
    "      \"title\": \"Coffee Beans\",\n",
    "      \"description\": \"High-quality beans sourced from local roasters.\",\n",
    "      \"amount\": 2800,\n",
    "      \"level_1_category\": \"Inventory\",\n",
    "      \"level_2_category\": \"Raw Materials\", \n",
    "      \"level_3_category\": \"Coffee Beans\"\n",
    "    },\n",
    "    {\n",
    "      \"title\": \"Tea Leaves\",\n",
    "      \"description\": \"Premium tea leaves for tea beverages.\",\n",
    "      \"amount\": 450,\n",
    "      \"level_1_category\": \"Inventory\",\n",
    "      \"level_2_category\": \"Raw Materials\",\n",
    "      \"level_3_category\": \"Tea Leaves\"\n",
    "    },\n",
    "    {\n",
    "      \"title\": \"Milk\",\n",
    "      \"description\": \"Whole milk for coffee beverages.\",\n",
    "      \"amount\": 1200,\n",
    "      \"level_1_category\": \"Inventory\",\n",
    "      \"level_2_category\": \"Dairy Products\",\n",
    "      \"level_3_category\": \"Milk\"\n",
    "    },\n",
    "    {\n",
    "      \"title\": \"Heavy Cream\",\n",
    "      \"description\": \"Heavy cream for specialty drinks.\",\n",
    "      \"amount\": 600,\n",
    "      \"level_1_category\": \"Inventory\",\n",
    "      \"level_2_category\": \"Dairy Products\",\n",
    "      \"level_3_category\": \"Cream\"\n",
    "    },\n",
    "    {\n",
    "      \"title\": \"Sugar\",\n",
    "      \"description\": \"Organic sugar packets for customer use.\",\n",
    "      \"amount\": 350,\n",
    "      \"level_1_category\": \"Inventory\",\n",
    "      \"level_2_category\": \"Sweeteners\",\n",
    "      \"level_3_category\": \"Sugar\"\n",
    "    },\n",
    "    {\n",
    "      \"title\": \"Artificial Sweeteners\",\n",
    "      \"description\": \"Zero calorie sweetener packets.\",\n",
    "      \"amount\": 200,\n",
    "      \"level_1_category\": \"Inventory\",\n",
    "      \"level_2_category\": \"Sweeteners\",\n",
    "      \"level_3_category\": \"Artificial\"\n",
    "    },\n",
    "    {\n",
    "      \"title\": \"Cups & Lids\",\n",
    "      \"description\": \"Disposable cups and lids for takeout orders.\",\n",
    "      \"amount\": 1800,\n",
    "      \"level_1_category\": \"Supplies\",\n",
    "      \"level_2_category\": \"Packaging\",\n",
    "      \"level_3_category\": \"Cups\"\n",
    "    },\n",
    "    {\n",
    "      \"title\": \"Napkins & Sleeves\",\n",
    "      \"description\": \"Napkins and cup sleeves for customer use.\",\n",
    "      \"amount\": 450,\n",
    "      \"level_1_category\": \"Supplies\",\n",
    "      \"level_2_category\": \"Packaging\",\n",
    "      \"level_3_category\": \"Napkins\"\n",
    "    },\n",
    "    {\n",
    "      \"title\": \"Barista Wages\",\n",
    "      \"description\": \"Hourly wages for baristas and staff.\",\n",
    "      \"amount\": 12500,\n",
    "      \"level_1_category\": \"Labor\",\n",
    "      \"level_2_category\": \"Salaries\",\n",
    "      \"level_3_category\": \"Hourly Staff\"\n",
    "    },\n",
    "    {\n",
    "      \"title\": \"Management Salaries\",\n",
    "      \"description\": \"Monthly salaries for store managers.\",\n",
    "      \"amount\": 8500,\n",
    "      \"level_1_category\": \"Labor\",\n",
    "      \"level_2_category\": \"Salaries\",\n",
    "      \"level_3_category\": \"Management\"\n",
    "    },\n",
    "    {\n",
    "      \"title\": \"Electricity\",\n",
    "      \"description\": \"Electricity bill for coffee shop operations.\",\n",
    "      \"amount\": 1200,\n",
    "      \"level_1_category\": \"Utilities\",\n",
    "      \"level_2_category\": \"Energy\",\n",
    "      \"level_3_category\": \"Electricity\"\n",
    "    },\n",
    "    {\n",
    "      \"title\": \"Gas\",\n",
    "      \"description\": \"Gas bill for kitchen equipment.\",\n",
    "      \"amount\": 450,\n",
    "      \"level_1_category\": \"Utilities\",\n",
    "      \"level_2_category\": \"Energy\",\n",
    "      \"level_3_category\": \"Gas\"\n",
    "    },\n",
    "    {\n",
    "      \"title\": \"Water & Sewage\",\n",
    "      \"description\": \"Water usage for coffee brewing and cleaning.\",\n",
    "      \"amount\": 380,\n",
    "      \"level_1_category\": \"Utilities\",\n",
    "      \"level_2_category\": \"Water\",\n",
    "      \"level_3_category\": \"Water Usage\"\n",
    "    },\n",
    "    {\n",
    "      \"title\": \"Espresso Machine Service\",\n",
    "      \"description\": \"Routine maintenance for espresso machines.\",\n",
    "      \"amount\": 650,\n",
    "      \"level_1_category\": \"Maintenance\",\n",
    "      \"level_2_category\": \"Equipment\",\n",
    "      \"level_3_category\": \"Coffee Machines\"\n",
    "    },\n",
    "    {\n",
    "      \"title\": \"Kitchen Equipment Service\",\n",
    "      \"description\": \"Maintenance for refrigerators and other equipment.\",\n",
    "      \"amount\": 450,\n",
    "      \"level_1_category\": \"Maintenance\",\n",
    "      \"level_2_category\": \"Equipment\",\n",
    "      \"level_3_category\": \"Kitchen Equipment\"\n",
    "    },\n",
    "    {\n",
    "      \"title\": \"Business Internet\",\n",
    "      \"description\": \"High-speed internet and Wi-Fi for customers.\",\n",
    "      \"amount\": 250,\n",
    "      \"level_1_category\": \"Services\",\n",
    "      \"level_2_category\": \"Communication\",\n",
    "      \"level_3_category\": \"Wi-Fi\"\n",
    "    },\n",
    "    {\n",
    "      \"title\": \"Business Phone\",\n",
    "      \"description\": \"Business phone and mobile lines.\",\n",
    "      \"amount\": 180,\n",
    "      \"level_1_category\": \"Services\",\n",
    "      \"level_2_category\": \"Communication\",\n",
    "      \"level_3_category\": \"Phone\"\n",
    "    },\n",
    "    {\n",
    "      \"title\": \"Cleaning Supplies\",\n",
    "      \"description\": \"Cleaning supplies and sanitization materials.\",\n",
    "      \"amount\": 600,\n",
    "      \"level_1_category\": \"Supplies\",\n",
    "      \"level_2_category\": \"Cleaning\",\n",
    "      \"level_3_category\": \"General Cleaning\"\n",
    "    },\n",
    "    {\n",
    "      \"title\": \"Digital Marketing\",\n",
    "      \"description\": \"Social media ads and online promotions.\",\n",
    "      \"amount\": 1200,\n",
    "      \"level_1_category\": \"Marketing\",\n",
    "      \"level_2_category\": \"Advertising\",\n",
    "      \"level_3_category\": \"Social Media\"\n",
    "    },\n",
    "    {\n",
    "      \"title\": \"Local Advertising\",\n",
    "      \"description\": \"Local print ads and community promotions.\",\n",
    "      \"amount\": 800,\n",
    "      \"level_1_category\": \"Marketing\",\n",
    "      \"level_2_category\": \"Advertising\",\n",
    "      \"level_3_category\": \"Print Ads\"\n",
    "    },\n",
    "    {\n",
    "      \"title\": \"Retail Space Lease\",\n",
    "      \"description\": \"Monthly lease for prime retail location.\",\n",
    "      \"amount\": 6500,\n",
    "      \"level_1_category\": \"Rent & Lease\",\n",
    "      \"level_2_category\": \"Property\",\n",
    "      \"level_3_category\": \"Coffee Shop Rent\"\n",
    "    },\n",
    "    {\n",
    "      \"title\": \"POS System\",\n",
    "      \"description\": \"Payment processing and POS software subscription.\",\n",
    "      \"amount\": 450,\n",
    "      \"level_1_category\": \"Equipment\",\n",
    "      \"level_2_category\": \"Technology\",\n",
    "      \"level_3_category\": \"POS System\"\n",
    "    },\n",
    "    {\n",
    "      \"title\": \"Office Technology\",\n",
    "      \"description\": \"Computers, tablets and office equipment.\",\n",
    "      \"amount\": 350,\n",
    "      \"level_1_category\": \"Equipment\",\n",
    "      \"level_2_category\": \"Technology\",\n",
    "      \"level_3_category\": \"Computers\"\n",
    "    }\n",
    "  ]\n",
    "}\n",
    "coffee_shop_spend = pd.DataFrame(coffee_shop_spend['spend_items'])"
   ]
  },
  {
   "cell_type": "code",
   "execution_count": 20,
   "metadata": {},
   "outputs": [
    {
     "data": {
      "text/html": [
       "<table id=\"itables_48cf1f30_3e62_427c_82df_a66185337c53\" class=\"display nowrap\" data-quarto-disable-processing=\"true\" style=\"table-layout:auto;width:auto;margin:auto;caption-side:bottom\">\n",
       "<thead>\n",
       "    <tr style=\"text-align: right;\">\n",
       "      \n",
       "      <th>title</th>\n",
       "      <th>description</th>\n",
       "      <th>amount</th>\n",
       "      <th>level_1_category</th>\n",
       "      <th>level_2_category</th>\n",
       "      <th>level_3_category</th>\n",
       "    </tr>\n",
       "  </thead><tbody><tr>\n",
       "<td style=\"vertical-align:middle; text-align:left\">\n",
       "<a href=https://mwouts.github.io/itables/><svg class=\"main-svg\" xmlns=\"http://www.w3.org/2000/svg\" xmlns:xlink=\"http://www.w3.org/1999/xlink\"\n",
       "width=\"64\" viewBox=\"0 0 500 400\" style=\"font-family: 'Droid Sans', sans-serif;\">\n",
       "    <g style=\"fill:#d9d7fc\">\n",
       "        <path d=\"M100,400H500V357H100Z\" />\n",
       "        <path d=\"M100,300H400V257H100Z\" />\n",
       "        <path d=\"M0,200H400V157H0Z\" />\n",
       "        <path d=\"M100,100H500V57H100Z\" />\n",
       "        <path d=\"M100,350H500V307H100Z\" />\n",
       "        <path d=\"M100,250H400V207H100Z\" />\n",
       "        <path d=\"M0,150H400V107H0Z\" />\n",
       "        <path d=\"M100,50H500V7H100Z\" />\n",
       "    </g>\n",
       "    <g style=\"fill:#1a1366;stroke:#1a1366;\">\n",
       "   <rect x=\"100\" y=\"7\" width=\"400\" height=\"43\">\n",
       "    <animate\n",
       "      attributeName=\"width\"\n",
       "      values=\"0;400;0\"\n",
       "      dur=\"5s\"\n",
       "      repeatCount=\"indefinite\" />\n",
       "      <animate\n",
       "      attributeName=\"x\"\n",
       "      values=\"100;100;500\"\n",
       "      dur=\"5s\"\n",
       "      repeatCount=\"indefinite\" />\n",
       "  </rect>\n",
       "        <rect x=\"0\" y=\"107\" width=\"400\" height=\"43\">\n",
       "    <animate\n",
       "      attributeName=\"width\"\n",
       "      values=\"0;400;0\"\n",
       "      dur=\"3.5s\"\n",
       "      repeatCount=\"indefinite\" />\n",
       "    <animate\n",
       "      attributeName=\"x\"\n",
       "      values=\"0;0;400\"\n",
       "      dur=\"3.5s\"\n",
       "      repeatCount=\"indefinite\" />\n",
       "  </rect>\n",
       "        <rect x=\"100\" y=\"207\" width=\"300\" height=\"43\">\n",
       "    <animate\n",
       "      attributeName=\"width\"\n",
       "      values=\"0;300;0\"\n",
       "      dur=\"3s\"\n",
       "      repeatCount=\"indefinite\" />\n",
       "    <animate\n",
       "      attributeName=\"x\"\n",
       "      values=\"100;100;400\"\n",
       "      dur=\"3s\"\n",
       "      repeatCount=\"indefinite\" />\n",
       "  </rect>\n",
       "        <rect x=\"100\" y=\"307\" width=\"400\" height=\"43\">\n",
       "    <animate\n",
       "      attributeName=\"width\"\n",
       "      values=\"0;400;0\"\n",
       "      dur=\"4s\"\n",
       "      repeatCount=\"indefinite\" />\n",
       "      <animate\n",
       "      attributeName=\"x\"\n",
       "      values=\"100;100;500\"\n",
       "      dur=\"4s\"\n",
       "      repeatCount=\"indefinite\" />\n",
       "  </rect>\n",
       "        <g style=\"fill:transparent;stroke-width:8; stroke-linejoin:round\" rx=\"5\">\n",
       "            <g transform=\"translate(45 50) rotate(-45)\">\n",
       "                <circle r=\"33\" cx=\"0\" cy=\"0\" />\n",
       "                <rect x=\"-8\" y=\"32\" width=\"16\" height=\"30\" />\n",
       "            </g>\n",
       "\n",
       "            <g transform=\"translate(450 152)\">\n",
       "                <polyline points=\"-15,-20 -35,-20 -35,40 25,40 25,20\" />\n",
       "                <rect x=\"-15\" y=\"-40\" width=\"60\" height=\"60\" />\n",
       "            </g>\n",
       "\n",
       "            <g transform=\"translate(50 352)\">\n",
       "                <polygon points=\"-35,-5 0,-40 35,-5\" />\n",
       "                <polygon points=\"-35,10 0,45 35,10\" />\n",
       "            </g>\n",
       "\n",
       "            <g transform=\"translate(75 250)\">\n",
       "                <polyline points=\"-30,30 -60,0 -30,-30\" />\n",
       "                <polyline points=\"0,30 -30,0 0,-30\" />\n",
       "            </g>\n",
       "\n",
       "            <g transform=\"translate(425 250) rotate(180)\">\n",
       "                <polyline points=\"-30,30 -60,0 -30,-30\" />\n",
       "                <polyline points=\"0,30 -30,0 0,-30\" />\n",
       "            </g>\n",
       "        </g>\n",
       "    </g>\n",
       "</svg>\n",
       "</a>\n",
       "Loading ITables v2.2.4 from the internet...\n",
       "(need <a href=https://mwouts.github.io/itables/troubleshooting.html>help</a>?)</td>\n",
       "</tr></tbody>\n",
       "</table>\n",
       "<link href=\"https://www.unpkg.com/dt_for_itables@2.0.13/dt_bundle.css\" rel=\"stylesheet\">\n",
       "<script type=\"module\">\n",
       "    import {DataTable, jQuery as $} from 'https://www.unpkg.com/dt_for_itables@2.0.13/dt_bundle.js';\n",
       "\n",
       "    document.querySelectorAll(\"#itables_48cf1f30_3e62_427c_82df_a66185337c53:not(.dataTable)\").forEach(table => {\n",
       "        if (!(table instanceof HTMLTableElement))\n",
       "            return;\n",
       "\n",
       "        // Define the table data\n",
       "        const data = [[\"Coffee Beans\", \"High-quality beans sourced from local roasters.\", 2800, \"Inventory\", \"Raw Materials\", \"Coffee Beans\"], [\"Tea Leaves\", \"Premium tea leaves for tea beverages.\", 450, \"Inventory\", \"Raw Materials\", \"Tea Leaves\"], [\"Milk\", \"Whole milk for coffee beverages.\", 1200, \"Inventory\", \"Dairy Products\", \"Milk\"], [\"Heavy Cream\", \"Heavy cream for specialty drinks.\", 600, \"Inventory\", \"Dairy Products\", \"Cream\"], [\"Sugar\", \"Organic sugar packets for customer use.\", 350, \"Inventory\", \"Sweeteners\", \"Sugar\"], [\"Artificial Sweeteners\", \"Zero calorie sweetener packets.\", 200, \"Inventory\", \"Sweeteners\", \"Artificial\"], [\"Cups & Lids\", \"Disposable cups and lids for takeout orders.\", 1800, \"Supplies\", \"Packaging\", \"Cups\"], [\"Napkins & Sleeves\", \"Napkins and cup sleeves for customer use.\", 450, \"Supplies\", \"Packaging\", \"Napkins\"], [\"Barista Wages\", \"Hourly wages for baristas and staff.\", 12500, \"Labor\", \"Salaries\", \"Hourly Staff\"], [\"Management Salaries\", \"Monthly salaries for store managers.\", 8500, \"Labor\", \"Salaries\", \"Management\"], [\"Electricity\", \"Electricity bill for coffee shop operations.\", 1200, \"Utilities\", \"Energy\", \"Electricity\"], [\"Gas\", \"Gas bill for kitchen equipment.\", 450, \"Utilities\", \"Energy\", \"Gas\"], [\"Water & Sewage\", \"Water usage for coffee brewing and cleaning.\", 380, \"Utilities\", \"Water\", \"Water Usage\"], [\"Espresso Machine Service\", \"Routine maintenance for espresso machines.\", 650, \"Maintenance\", \"Equipment\", \"Coffee Machines\"], [\"Kitchen Equipment Service\", \"Maintenance for refrigerators and other equipment.\", 450, \"Maintenance\", \"Equipment\", \"Kitchen Equipment\"], [\"Business Internet\", \"High-speed internet and Wi-Fi for customers.\", 250, \"Services\", \"Communication\", \"Wi-Fi\"], [\"Business Phone\", \"Business phone and mobile lines.\", 180, \"Services\", \"Communication\", \"Phone\"], [\"Cleaning Supplies\", \"Cleaning supplies and sanitization materials.\", 600, \"Supplies\", \"Cleaning\", \"General Cleaning\"], [\"Digital Marketing\", \"Social media ads and online promotions.\", 1200, \"Marketing\", \"Advertising\", \"Social Media\"], [\"Local Advertising\", \"Local print ads and community promotions.\", 800, \"Marketing\", \"Advertising\", \"Print Ads\"], [\"Retail Space Lease\", \"Monthly lease for prime retail location.\", 6500, \"Rent & Lease\", \"Property\", \"Coffee Shop Rent\"], [\"POS System\", \"Payment processing and POS software subscription.\", 450, \"Equipment\", \"Technology\", \"POS System\"], [\"Office Technology\", \"Computers, tablets and office equipment.\", 350, \"Equipment\", \"Technology\", \"Computers\"]];\n",
       "\n",
       "        // Define the dt_args\n",
       "        let dt_args = {\"layout\": {\"topStart\": \"pageLength\", \"topEnd\": \"search\", \"bottomStart\": \"info\", \"bottomEnd\": \"paging\"}, \"order\": [], \"warn_on_selected_rows_not_rendered\": true};\n",
       "        dt_args[\"data\"] = data;\n",
       "\n",
       "        \n",
       "        new DataTable(table, dt_args);\n",
       "    });\n",
       "</script>\n"
      ],
      "text/plain": [
       "<IPython.core.display.HTML object>"
      ]
     },
     "metadata": {},
     "output_type": "display_data"
    }
   ],
   "source": [
    "show(coffee_shop_spend)"
   ]
  },
  {
   "cell_type": "markdown",
   "metadata": {},
   "source": [
    "### Pareto Analysis ###\n",
    "\n",
    "A Pareto chart ranks spending categories from highest to lowest, highlighting which areas most impact total expenditures and their cumulative contribution (blue bars for absolute spend, red line for cumulative percentage). Labor and Rent & Lease dominate, showing that a few categories account for the majority of costs. \n",
    "\n",
    "This reflects the 80/20 principle in procurement, where targeting categories that make up around 80% of total spend can achieve significant cost savings. This type of analysis helps teams prioritize their spend strategies by focusing on the most important cost drivers."
   ]
  },
  {
   "cell_type": "code",
   "execution_count": 32,
   "metadata": {},
   "outputs": [
    {
     "data": {
      "application/vnd.plotly.v1+json": {
       "config": {
        "plotlyServerURL": "https://plot.ly"
       },
       "data": [
        {
         "marker": {
          "color": "rgb(8, 81, 156)"
         },
         "name": "Amount",
         "opacity": 0.7,
         "type": "bar",
         "x": [
          "Labor",
          "Rent & Lease",
          "Inventory",
          "Supplies",
          "Utilities",
          "Marketing",
          "Maintenance",
          "Equipment",
          "Services"
         ],
         "y": [
          21000,
          6500,
          5600,
          2850,
          2030,
          2000,
          1100,
          800,
          430
         ]
        },
        {
         "line": {
          "color": "rgb(255, 0, 0)"
         },
         "mode": "lines+markers",
         "name": "Cumulative %",
         "type": "scatter",
         "x": [
          "Labor",
          "Rent & Lease",
          "Inventory",
          "Supplies",
          "Utilities",
          "Marketing",
          "Maintenance",
          "Equipment",
          "Services"
         ],
         "y": [
          49.63,
          65,
          78.23,
          84.97,
          89.77,
          94.49,
          97.09,
          98.98,
          100
         ],
         "yaxis": "y2"
        }
       ],
       "layout": {
        "height": 600,
        "hovermode": "x unified",
        "legend": {
         "x": 1.1
        },
        "showlegend": true,
        "template": {
         "data": {
          "bar": [
           {
            "error_x": {
             "color": "#2a3f5f"
            },
            "error_y": {
             "color": "#2a3f5f"
            },
            "marker": {
             "line": {
              "color": "#E5ECF6",
              "width": 0.5
             },
             "pattern": {
              "fillmode": "overlay",
              "size": 10,
              "solidity": 0.2
             }
            },
            "type": "bar"
           }
          ],
          "barpolar": [
           {
            "marker": {
             "line": {
              "color": "#E5ECF6",
              "width": 0.5
             },
             "pattern": {
              "fillmode": "overlay",
              "size": 10,
              "solidity": 0.2
             }
            },
            "type": "barpolar"
           }
          ],
          "carpet": [
           {
            "aaxis": {
             "endlinecolor": "#2a3f5f",
             "gridcolor": "white",
             "linecolor": "white",
             "minorgridcolor": "white",
             "startlinecolor": "#2a3f5f"
            },
            "baxis": {
             "endlinecolor": "#2a3f5f",
             "gridcolor": "white",
             "linecolor": "white",
             "minorgridcolor": "white",
             "startlinecolor": "#2a3f5f"
            },
            "type": "carpet"
           }
          ],
          "choropleth": [
           {
            "colorbar": {
             "outlinewidth": 0,
             "ticks": ""
            },
            "type": "choropleth"
           }
          ],
          "contour": [
           {
            "colorbar": {
             "outlinewidth": 0,
             "ticks": ""
            },
            "colorscale": [
             [
              0,
              "#0d0887"
             ],
             [
              0.1111111111111111,
              "#46039f"
             ],
             [
              0.2222222222222222,
              "#7201a8"
             ],
             [
              0.3333333333333333,
              "#9c179e"
             ],
             [
              0.4444444444444444,
              "#bd3786"
             ],
             [
              0.5555555555555556,
              "#d8576b"
             ],
             [
              0.6666666666666666,
              "#ed7953"
             ],
             [
              0.7777777777777778,
              "#fb9f3a"
             ],
             [
              0.8888888888888888,
              "#fdca26"
             ],
             [
              1,
              "#f0f921"
             ]
            ],
            "type": "contour"
           }
          ],
          "contourcarpet": [
           {
            "colorbar": {
             "outlinewidth": 0,
             "ticks": ""
            },
            "type": "contourcarpet"
           }
          ],
          "heatmap": [
           {
            "colorbar": {
             "outlinewidth": 0,
             "ticks": ""
            },
            "colorscale": [
             [
              0,
              "#0d0887"
             ],
             [
              0.1111111111111111,
              "#46039f"
             ],
             [
              0.2222222222222222,
              "#7201a8"
             ],
             [
              0.3333333333333333,
              "#9c179e"
             ],
             [
              0.4444444444444444,
              "#bd3786"
             ],
             [
              0.5555555555555556,
              "#d8576b"
             ],
             [
              0.6666666666666666,
              "#ed7953"
             ],
             [
              0.7777777777777778,
              "#fb9f3a"
             ],
             [
              0.8888888888888888,
              "#fdca26"
             ],
             [
              1,
              "#f0f921"
             ]
            ],
            "type": "heatmap"
           }
          ],
          "heatmapgl": [
           {
            "colorbar": {
             "outlinewidth": 0,
             "ticks": ""
            },
            "colorscale": [
             [
              0,
              "#0d0887"
             ],
             [
              0.1111111111111111,
              "#46039f"
             ],
             [
              0.2222222222222222,
              "#7201a8"
             ],
             [
              0.3333333333333333,
              "#9c179e"
             ],
             [
              0.4444444444444444,
              "#bd3786"
             ],
             [
              0.5555555555555556,
              "#d8576b"
             ],
             [
              0.6666666666666666,
              "#ed7953"
             ],
             [
              0.7777777777777778,
              "#fb9f3a"
             ],
             [
              0.8888888888888888,
              "#fdca26"
             ],
             [
              1,
              "#f0f921"
             ]
            ],
            "type": "heatmapgl"
           }
          ],
          "histogram": [
           {
            "marker": {
             "pattern": {
              "fillmode": "overlay",
              "size": 10,
              "solidity": 0.2
             }
            },
            "type": "histogram"
           }
          ],
          "histogram2d": [
           {
            "colorbar": {
             "outlinewidth": 0,
             "ticks": ""
            },
            "colorscale": [
             [
              0,
              "#0d0887"
             ],
             [
              0.1111111111111111,
              "#46039f"
             ],
             [
              0.2222222222222222,
              "#7201a8"
             ],
             [
              0.3333333333333333,
              "#9c179e"
             ],
             [
              0.4444444444444444,
              "#bd3786"
             ],
             [
              0.5555555555555556,
              "#d8576b"
             ],
             [
              0.6666666666666666,
              "#ed7953"
             ],
             [
              0.7777777777777778,
              "#fb9f3a"
             ],
             [
              0.8888888888888888,
              "#fdca26"
             ],
             [
              1,
              "#f0f921"
             ]
            ],
            "type": "histogram2d"
           }
          ],
          "histogram2dcontour": [
           {
            "colorbar": {
             "outlinewidth": 0,
             "ticks": ""
            },
            "colorscale": [
             [
              0,
              "#0d0887"
             ],
             [
              0.1111111111111111,
              "#46039f"
             ],
             [
              0.2222222222222222,
              "#7201a8"
             ],
             [
              0.3333333333333333,
              "#9c179e"
             ],
             [
              0.4444444444444444,
              "#bd3786"
             ],
             [
              0.5555555555555556,
              "#d8576b"
             ],
             [
              0.6666666666666666,
              "#ed7953"
             ],
             [
              0.7777777777777778,
              "#fb9f3a"
             ],
             [
              0.8888888888888888,
              "#fdca26"
             ],
             [
              1,
              "#f0f921"
             ]
            ],
            "type": "histogram2dcontour"
           }
          ],
          "mesh3d": [
           {
            "colorbar": {
             "outlinewidth": 0,
             "ticks": ""
            },
            "type": "mesh3d"
           }
          ],
          "parcoords": [
           {
            "line": {
             "colorbar": {
              "outlinewidth": 0,
              "ticks": ""
             }
            },
            "type": "parcoords"
           }
          ],
          "pie": [
           {
            "automargin": true,
            "type": "pie"
           }
          ],
          "scatter": [
           {
            "fillpattern": {
             "fillmode": "overlay",
             "size": 10,
             "solidity": 0.2
            },
            "type": "scatter"
           }
          ],
          "scatter3d": [
           {
            "line": {
             "colorbar": {
              "outlinewidth": 0,
              "ticks": ""
             }
            },
            "marker": {
             "colorbar": {
              "outlinewidth": 0,
              "ticks": ""
             }
            },
            "type": "scatter3d"
           }
          ],
          "scattercarpet": [
           {
            "marker": {
             "colorbar": {
              "outlinewidth": 0,
              "ticks": ""
             }
            },
            "type": "scattercarpet"
           }
          ],
          "scattergeo": [
           {
            "marker": {
             "colorbar": {
              "outlinewidth": 0,
              "ticks": ""
             }
            },
            "type": "scattergeo"
           }
          ],
          "scattergl": [
           {
            "marker": {
             "colorbar": {
              "outlinewidth": 0,
              "ticks": ""
             }
            },
            "type": "scattergl"
           }
          ],
          "scattermapbox": [
           {
            "marker": {
             "colorbar": {
              "outlinewidth": 0,
              "ticks": ""
             }
            },
            "type": "scattermapbox"
           }
          ],
          "scatterpolar": [
           {
            "marker": {
             "colorbar": {
              "outlinewidth": 0,
              "ticks": ""
             }
            },
            "type": "scatterpolar"
           }
          ],
          "scatterpolargl": [
           {
            "marker": {
             "colorbar": {
              "outlinewidth": 0,
              "ticks": ""
             }
            },
            "type": "scatterpolargl"
           }
          ],
          "scatterternary": [
           {
            "marker": {
             "colorbar": {
              "outlinewidth": 0,
              "ticks": ""
             }
            },
            "type": "scatterternary"
           }
          ],
          "surface": [
           {
            "colorbar": {
             "outlinewidth": 0,
             "ticks": ""
            },
            "colorscale": [
             [
              0,
              "#0d0887"
             ],
             [
              0.1111111111111111,
              "#46039f"
             ],
             [
              0.2222222222222222,
              "#7201a8"
             ],
             [
              0.3333333333333333,
              "#9c179e"
             ],
             [
              0.4444444444444444,
              "#bd3786"
             ],
             [
              0.5555555555555556,
              "#d8576b"
             ],
             [
              0.6666666666666666,
              "#ed7953"
             ],
             [
              0.7777777777777778,
              "#fb9f3a"
             ],
             [
              0.8888888888888888,
              "#fdca26"
             ],
             [
              1,
              "#f0f921"
             ]
            ],
            "type": "surface"
           }
          ],
          "table": [
           {
            "cells": {
             "fill": {
              "color": "#EBF0F8"
             },
             "line": {
              "color": "white"
             }
            },
            "header": {
             "fill": {
              "color": "#C8D4E3"
             },
             "line": {
              "color": "white"
             }
            },
            "type": "table"
           }
          ]
         },
         "layout": {
          "annotationdefaults": {
           "arrowcolor": "#2a3f5f",
           "arrowhead": 0,
           "arrowwidth": 1
          },
          "autotypenumbers": "strict",
          "coloraxis": {
           "colorbar": {
            "outlinewidth": 0,
            "ticks": ""
           }
          },
          "colorscale": {
           "diverging": [
            [
             0,
             "#8e0152"
            ],
            [
             0.1,
             "#c51b7d"
            ],
            [
             0.2,
             "#de77ae"
            ],
            [
             0.3,
             "#f1b6da"
            ],
            [
             0.4,
             "#fde0ef"
            ],
            [
             0.5,
             "#f7f7f7"
            ],
            [
             0.6,
             "#e6f5d0"
            ],
            [
             0.7,
             "#b8e186"
            ],
            [
             0.8,
             "#7fbc41"
            ],
            [
             0.9,
             "#4d9221"
            ],
            [
             1,
             "#276419"
            ]
           ],
           "sequential": [
            [
             0,
             "#0d0887"
            ],
            [
             0.1111111111111111,
             "#46039f"
            ],
            [
             0.2222222222222222,
             "#7201a8"
            ],
            [
             0.3333333333333333,
             "#9c179e"
            ],
            [
             0.4444444444444444,
             "#bd3786"
            ],
            [
             0.5555555555555556,
             "#d8576b"
            ],
            [
             0.6666666666666666,
             "#ed7953"
            ],
            [
             0.7777777777777778,
             "#fb9f3a"
            ],
            [
             0.8888888888888888,
             "#fdca26"
            ],
            [
             1,
             "#f0f921"
            ]
           ],
           "sequentialminus": [
            [
             0,
             "#0d0887"
            ],
            [
             0.1111111111111111,
             "#46039f"
            ],
            [
             0.2222222222222222,
             "#7201a8"
            ],
            [
             0.3333333333333333,
             "#9c179e"
            ],
            [
             0.4444444444444444,
             "#bd3786"
            ],
            [
             0.5555555555555556,
             "#d8576b"
            ],
            [
             0.6666666666666666,
             "#ed7953"
            ],
            [
             0.7777777777777778,
             "#fb9f3a"
            ],
            [
             0.8888888888888888,
             "#fdca26"
            ],
            [
             1,
             "#f0f921"
            ]
           ]
          },
          "colorway": [
           "#636efa",
           "#EF553B",
           "#00cc96",
           "#ab63fa",
           "#FFA15A",
           "#19d3f3",
           "#FF6692",
           "#B6E880",
           "#FF97FF",
           "#FECB52"
          ],
          "font": {
           "color": "#2a3f5f"
          },
          "geo": {
           "bgcolor": "white",
           "lakecolor": "white",
           "landcolor": "#E5ECF6",
           "showlakes": true,
           "showland": true,
           "subunitcolor": "white"
          },
          "hoverlabel": {
           "align": "left"
          },
          "hovermode": "closest",
          "mapbox": {
           "style": "light"
          },
          "paper_bgcolor": "white",
          "plot_bgcolor": "#E5ECF6",
          "polar": {
           "angularaxis": {
            "gridcolor": "white",
            "linecolor": "white",
            "ticks": ""
           },
           "bgcolor": "#E5ECF6",
           "radialaxis": {
            "gridcolor": "white",
            "linecolor": "white",
            "ticks": ""
           }
          },
          "scene": {
           "xaxis": {
            "backgroundcolor": "#E5ECF6",
            "gridcolor": "white",
            "gridwidth": 2,
            "linecolor": "white",
            "showbackground": true,
            "ticks": "",
            "zerolinecolor": "white"
           },
           "yaxis": {
            "backgroundcolor": "#E5ECF6",
            "gridcolor": "white",
            "gridwidth": 2,
            "linecolor": "white",
            "showbackground": true,
            "ticks": "",
            "zerolinecolor": "white"
           },
           "zaxis": {
            "backgroundcolor": "#E5ECF6",
            "gridcolor": "white",
            "gridwidth": 2,
            "linecolor": "white",
            "showbackground": true,
            "ticks": "",
            "zerolinecolor": "white"
           }
          },
          "shapedefaults": {
           "line": {
            "color": "#2a3f5f"
           }
          },
          "ternary": {
           "aaxis": {
            "gridcolor": "white",
            "linecolor": "white",
            "ticks": ""
           },
           "baxis": {
            "gridcolor": "white",
            "linecolor": "white",
            "ticks": ""
           },
           "bgcolor": "#E5ECF6",
           "caxis": {
            "gridcolor": "white",
            "linecolor": "white",
            "ticks": ""
           }
          },
          "title": {
           "x": 0.05
          },
          "xaxis": {
           "automargin": true,
           "gridcolor": "white",
           "linecolor": "white",
           "ticks": "",
           "title": {
            "standoff": 15
           },
           "zerolinecolor": "white",
           "zerolinewidth": 2
          },
          "yaxis": {
           "automargin": true,
           "gridcolor": "white",
           "linecolor": "white",
           "ticks": "",
           "title": {
            "standoff": 15
           },
           "zerolinecolor": "white",
           "zerolinewidth": 2
          }
         }
        },
        "title": {
         "text": "Pareto Analysis by level_1_category"
        },
        "width": 1000,
        "xaxis": {
         "tickangle": 45,
         "title": {
          "text": "level_1_category"
         }
        },
        "yaxis": {
         "side": "left",
         "title": {
          "text": "Amount"
         }
        },
        "yaxis2": {
         "overlaying": "y",
         "range": [
          0,
          100
         ],
         "side": "right",
         "title": {
          "text": "Cumulative %"
         }
        }
       }
      }
     },
     "metadata": {},
     "output_type": "display_data"
    },
    {
     "data": {
      "application/vnd.plotly.v1+json": {
       "config": {
        "plotlyServerURL": "https://plot.ly"
       },
       "data": [
        {
         "marker": {
          "color": "rgb(8, 81, 156)"
         },
         "name": "Amount",
         "opacity": 0.7,
         "type": "bar",
         "x": [
          "Salaries",
          "Property",
          "Raw Materials",
          "Packaging",
          "Advertising",
          "Dairy Products",
          "Energy",
          "Equipment",
          "Technology",
          "Cleaning",
          "Sweeteners",
          "Communication",
          "Water"
         ],
         "y": [
          21000,
          6500,
          3250,
          2250,
          2000,
          1800,
          1650,
          1100,
          800,
          600,
          550,
          430,
          380
         ]
        },
        {
         "line": {
          "color": "rgb(255, 0, 0)"
         },
         "mode": "lines+markers",
         "name": "Cumulative %",
         "type": "scatter",
         "x": [
          "Salaries",
          "Property",
          "Raw Materials",
          "Packaging",
          "Advertising",
          "Dairy Products",
          "Energy",
          "Equipment",
          "Technology",
          "Cleaning",
          "Sweeteners",
          "Communication",
          "Water"
         ],
         "y": [
          49.63,
          65,
          72.68,
          78,
          82.72,
          86.98,
          90.88,
          93.48,
          95.37,
          96.79,
          98.09,
          99.1,
          100
         ],
         "yaxis": "y2"
        }
       ],
       "layout": {
        "height": 600,
        "hovermode": "x unified",
        "legend": {
         "x": 1.1
        },
        "showlegend": true,
        "template": {
         "data": {
          "bar": [
           {
            "error_x": {
             "color": "#2a3f5f"
            },
            "error_y": {
             "color": "#2a3f5f"
            },
            "marker": {
             "line": {
              "color": "#E5ECF6",
              "width": 0.5
             },
             "pattern": {
              "fillmode": "overlay",
              "size": 10,
              "solidity": 0.2
             }
            },
            "type": "bar"
           }
          ],
          "barpolar": [
           {
            "marker": {
             "line": {
              "color": "#E5ECF6",
              "width": 0.5
             },
             "pattern": {
              "fillmode": "overlay",
              "size": 10,
              "solidity": 0.2
             }
            },
            "type": "barpolar"
           }
          ],
          "carpet": [
           {
            "aaxis": {
             "endlinecolor": "#2a3f5f",
             "gridcolor": "white",
             "linecolor": "white",
             "minorgridcolor": "white",
             "startlinecolor": "#2a3f5f"
            },
            "baxis": {
             "endlinecolor": "#2a3f5f",
             "gridcolor": "white",
             "linecolor": "white",
             "minorgridcolor": "white",
             "startlinecolor": "#2a3f5f"
            },
            "type": "carpet"
           }
          ],
          "choropleth": [
           {
            "colorbar": {
             "outlinewidth": 0,
             "ticks": ""
            },
            "type": "choropleth"
           }
          ],
          "contour": [
           {
            "colorbar": {
             "outlinewidth": 0,
             "ticks": ""
            },
            "colorscale": [
             [
              0,
              "#0d0887"
             ],
             [
              0.1111111111111111,
              "#46039f"
             ],
             [
              0.2222222222222222,
              "#7201a8"
             ],
             [
              0.3333333333333333,
              "#9c179e"
             ],
             [
              0.4444444444444444,
              "#bd3786"
             ],
             [
              0.5555555555555556,
              "#d8576b"
             ],
             [
              0.6666666666666666,
              "#ed7953"
             ],
             [
              0.7777777777777778,
              "#fb9f3a"
             ],
             [
              0.8888888888888888,
              "#fdca26"
             ],
             [
              1,
              "#f0f921"
             ]
            ],
            "type": "contour"
           }
          ],
          "contourcarpet": [
           {
            "colorbar": {
             "outlinewidth": 0,
             "ticks": ""
            },
            "type": "contourcarpet"
           }
          ],
          "heatmap": [
           {
            "colorbar": {
             "outlinewidth": 0,
             "ticks": ""
            },
            "colorscale": [
             [
              0,
              "#0d0887"
             ],
             [
              0.1111111111111111,
              "#46039f"
             ],
             [
              0.2222222222222222,
              "#7201a8"
             ],
             [
              0.3333333333333333,
              "#9c179e"
             ],
             [
              0.4444444444444444,
              "#bd3786"
             ],
             [
              0.5555555555555556,
              "#d8576b"
             ],
             [
              0.6666666666666666,
              "#ed7953"
             ],
             [
              0.7777777777777778,
              "#fb9f3a"
             ],
             [
              0.8888888888888888,
              "#fdca26"
             ],
             [
              1,
              "#f0f921"
             ]
            ],
            "type": "heatmap"
           }
          ],
          "heatmapgl": [
           {
            "colorbar": {
             "outlinewidth": 0,
             "ticks": ""
            },
            "colorscale": [
             [
              0,
              "#0d0887"
             ],
             [
              0.1111111111111111,
              "#46039f"
             ],
             [
              0.2222222222222222,
              "#7201a8"
             ],
             [
              0.3333333333333333,
              "#9c179e"
             ],
             [
              0.4444444444444444,
              "#bd3786"
             ],
             [
              0.5555555555555556,
              "#d8576b"
             ],
             [
              0.6666666666666666,
              "#ed7953"
             ],
             [
              0.7777777777777778,
              "#fb9f3a"
             ],
             [
              0.8888888888888888,
              "#fdca26"
             ],
             [
              1,
              "#f0f921"
             ]
            ],
            "type": "heatmapgl"
           }
          ],
          "histogram": [
           {
            "marker": {
             "pattern": {
              "fillmode": "overlay",
              "size": 10,
              "solidity": 0.2
             }
            },
            "type": "histogram"
           }
          ],
          "histogram2d": [
           {
            "colorbar": {
             "outlinewidth": 0,
             "ticks": ""
            },
            "colorscale": [
             [
              0,
              "#0d0887"
             ],
             [
              0.1111111111111111,
              "#46039f"
             ],
             [
              0.2222222222222222,
              "#7201a8"
             ],
             [
              0.3333333333333333,
              "#9c179e"
             ],
             [
              0.4444444444444444,
              "#bd3786"
             ],
             [
              0.5555555555555556,
              "#d8576b"
             ],
             [
              0.6666666666666666,
              "#ed7953"
             ],
             [
              0.7777777777777778,
              "#fb9f3a"
             ],
             [
              0.8888888888888888,
              "#fdca26"
             ],
             [
              1,
              "#f0f921"
             ]
            ],
            "type": "histogram2d"
           }
          ],
          "histogram2dcontour": [
           {
            "colorbar": {
             "outlinewidth": 0,
             "ticks": ""
            },
            "colorscale": [
             [
              0,
              "#0d0887"
             ],
             [
              0.1111111111111111,
              "#46039f"
             ],
             [
              0.2222222222222222,
              "#7201a8"
             ],
             [
              0.3333333333333333,
              "#9c179e"
             ],
             [
              0.4444444444444444,
              "#bd3786"
             ],
             [
              0.5555555555555556,
              "#d8576b"
             ],
             [
              0.6666666666666666,
              "#ed7953"
             ],
             [
              0.7777777777777778,
              "#fb9f3a"
             ],
             [
              0.8888888888888888,
              "#fdca26"
             ],
             [
              1,
              "#f0f921"
             ]
            ],
            "type": "histogram2dcontour"
           }
          ],
          "mesh3d": [
           {
            "colorbar": {
             "outlinewidth": 0,
             "ticks": ""
            },
            "type": "mesh3d"
           }
          ],
          "parcoords": [
           {
            "line": {
             "colorbar": {
              "outlinewidth": 0,
              "ticks": ""
             }
            },
            "type": "parcoords"
           }
          ],
          "pie": [
           {
            "automargin": true,
            "type": "pie"
           }
          ],
          "scatter": [
           {
            "fillpattern": {
             "fillmode": "overlay",
             "size": 10,
             "solidity": 0.2
            },
            "type": "scatter"
           }
          ],
          "scatter3d": [
           {
            "line": {
             "colorbar": {
              "outlinewidth": 0,
              "ticks": ""
             }
            },
            "marker": {
             "colorbar": {
              "outlinewidth": 0,
              "ticks": ""
             }
            },
            "type": "scatter3d"
           }
          ],
          "scattercarpet": [
           {
            "marker": {
             "colorbar": {
              "outlinewidth": 0,
              "ticks": ""
             }
            },
            "type": "scattercarpet"
           }
          ],
          "scattergeo": [
           {
            "marker": {
             "colorbar": {
              "outlinewidth": 0,
              "ticks": ""
             }
            },
            "type": "scattergeo"
           }
          ],
          "scattergl": [
           {
            "marker": {
             "colorbar": {
              "outlinewidth": 0,
              "ticks": ""
             }
            },
            "type": "scattergl"
           }
          ],
          "scattermapbox": [
           {
            "marker": {
             "colorbar": {
              "outlinewidth": 0,
              "ticks": ""
             }
            },
            "type": "scattermapbox"
           }
          ],
          "scatterpolar": [
           {
            "marker": {
             "colorbar": {
              "outlinewidth": 0,
              "ticks": ""
             }
            },
            "type": "scatterpolar"
           }
          ],
          "scatterpolargl": [
           {
            "marker": {
             "colorbar": {
              "outlinewidth": 0,
              "ticks": ""
             }
            },
            "type": "scatterpolargl"
           }
          ],
          "scatterternary": [
           {
            "marker": {
             "colorbar": {
              "outlinewidth": 0,
              "ticks": ""
             }
            },
            "type": "scatterternary"
           }
          ],
          "surface": [
           {
            "colorbar": {
             "outlinewidth": 0,
             "ticks": ""
            },
            "colorscale": [
             [
              0,
              "#0d0887"
             ],
             [
              0.1111111111111111,
              "#46039f"
             ],
             [
              0.2222222222222222,
              "#7201a8"
             ],
             [
              0.3333333333333333,
              "#9c179e"
             ],
             [
              0.4444444444444444,
              "#bd3786"
             ],
             [
              0.5555555555555556,
              "#d8576b"
             ],
             [
              0.6666666666666666,
              "#ed7953"
             ],
             [
              0.7777777777777778,
              "#fb9f3a"
             ],
             [
              0.8888888888888888,
              "#fdca26"
             ],
             [
              1,
              "#f0f921"
             ]
            ],
            "type": "surface"
           }
          ],
          "table": [
           {
            "cells": {
             "fill": {
              "color": "#EBF0F8"
             },
             "line": {
              "color": "white"
             }
            },
            "header": {
             "fill": {
              "color": "#C8D4E3"
             },
             "line": {
              "color": "white"
             }
            },
            "type": "table"
           }
          ]
         },
         "layout": {
          "annotationdefaults": {
           "arrowcolor": "#2a3f5f",
           "arrowhead": 0,
           "arrowwidth": 1
          },
          "autotypenumbers": "strict",
          "coloraxis": {
           "colorbar": {
            "outlinewidth": 0,
            "ticks": ""
           }
          },
          "colorscale": {
           "diverging": [
            [
             0,
             "#8e0152"
            ],
            [
             0.1,
             "#c51b7d"
            ],
            [
             0.2,
             "#de77ae"
            ],
            [
             0.3,
             "#f1b6da"
            ],
            [
             0.4,
             "#fde0ef"
            ],
            [
             0.5,
             "#f7f7f7"
            ],
            [
             0.6,
             "#e6f5d0"
            ],
            [
             0.7,
             "#b8e186"
            ],
            [
             0.8,
             "#7fbc41"
            ],
            [
             0.9,
             "#4d9221"
            ],
            [
             1,
             "#276419"
            ]
           ],
           "sequential": [
            [
             0,
             "#0d0887"
            ],
            [
             0.1111111111111111,
             "#46039f"
            ],
            [
             0.2222222222222222,
             "#7201a8"
            ],
            [
             0.3333333333333333,
             "#9c179e"
            ],
            [
             0.4444444444444444,
             "#bd3786"
            ],
            [
             0.5555555555555556,
             "#d8576b"
            ],
            [
             0.6666666666666666,
             "#ed7953"
            ],
            [
             0.7777777777777778,
             "#fb9f3a"
            ],
            [
             0.8888888888888888,
             "#fdca26"
            ],
            [
             1,
             "#f0f921"
            ]
           ],
           "sequentialminus": [
            [
             0,
             "#0d0887"
            ],
            [
             0.1111111111111111,
             "#46039f"
            ],
            [
             0.2222222222222222,
             "#7201a8"
            ],
            [
             0.3333333333333333,
             "#9c179e"
            ],
            [
             0.4444444444444444,
             "#bd3786"
            ],
            [
             0.5555555555555556,
             "#d8576b"
            ],
            [
             0.6666666666666666,
             "#ed7953"
            ],
            [
             0.7777777777777778,
             "#fb9f3a"
            ],
            [
             0.8888888888888888,
             "#fdca26"
            ],
            [
             1,
             "#f0f921"
            ]
           ]
          },
          "colorway": [
           "#636efa",
           "#EF553B",
           "#00cc96",
           "#ab63fa",
           "#FFA15A",
           "#19d3f3",
           "#FF6692",
           "#B6E880",
           "#FF97FF",
           "#FECB52"
          ],
          "font": {
           "color": "#2a3f5f"
          },
          "geo": {
           "bgcolor": "white",
           "lakecolor": "white",
           "landcolor": "#E5ECF6",
           "showlakes": true,
           "showland": true,
           "subunitcolor": "white"
          },
          "hoverlabel": {
           "align": "left"
          },
          "hovermode": "closest",
          "mapbox": {
           "style": "light"
          },
          "paper_bgcolor": "white",
          "plot_bgcolor": "#E5ECF6",
          "polar": {
           "angularaxis": {
            "gridcolor": "white",
            "linecolor": "white",
            "ticks": ""
           },
           "bgcolor": "#E5ECF6",
           "radialaxis": {
            "gridcolor": "white",
            "linecolor": "white",
            "ticks": ""
           }
          },
          "scene": {
           "xaxis": {
            "backgroundcolor": "#E5ECF6",
            "gridcolor": "white",
            "gridwidth": 2,
            "linecolor": "white",
            "showbackground": true,
            "ticks": "",
            "zerolinecolor": "white"
           },
           "yaxis": {
            "backgroundcolor": "#E5ECF6",
            "gridcolor": "white",
            "gridwidth": 2,
            "linecolor": "white",
            "showbackground": true,
            "ticks": "",
            "zerolinecolor": "white"
           },
           "zaxis": {
            "backgroundcolor": "#E5ECF6",
            "gridcolor": "white",
            "gridwidth": 2,
            "linecolor": "white",
            "showbackground": true,
            "ticks": "",
            "zerolinecolor": "white"
           }
          },
          "shapedefaults": {
           "line": {
            "color": "#2a3f5f"
           }
          },
          "ternary": {
           "aaxis": {
            "gridcolor": "white",
            "linecolor": "white",
            "ticks": ""
           },
           "baxis": {
            "gridcolor": "white",
            "linecolor": "white",
            "ticks": ""
           },
           "bgcolor": "#E5ECF6",
           "caxis": {
            "gridcolor": "white",
            "linecolor": "white",
            "ticks": ""
           }
          },
          "title": {
           "x": 0.05
          },
          "xaxis": {
           "automargin": true,
           "gridcolor": "white",
           "linecolor": "white",
           "ticks": "",
           "title": {
            "standoff": 15
           },
           "zerolinecolor": "white",
           "zerolinewidth": 2
          },
          "yaxis": {
           "automargin": true,
           "gridcolor": "white",
           "linecolor": "white",
           "ticks": "",
           "title": {
            "standoff": 15
           },
           "zerolinecolor": "white",
           "zerolinewidth": 2
          }
         }
        },
        "title": {
         "text": "Pareto Analysis by level_2_category"
        },
        "width": 1000,
        "xaxis": {
         "tickangle": 45,
         "title": {
          "text": "level_2_category"
         }
        },
        "yaxis": {
         "side": "left",
         "title": {
          "text": "Amount"
         }
        },
        "yaxis2": {
         "overlaying": "y",
         "range": [
          0,
          100
         ],
         "side": "right",
         "title": {
          "text": "Cumulative %"
         }
        }
       }
      }
     },
     "metadata": {},
     "output_type": "display_data"
    }
   ],
   "source": [
    "def create_pareto(\n",
    "    data: pd.DataFrame,\n",
    "    group_column: str,\n",
    "    amount_column: str = 'amount',\n",
    "    title_prefix: str = 'Pareto Analysis by'\n",
    "):\n",
    "    \"\"\"\n",
    "    Create a Pareto chart for a given dataset using Plotly and save to HTML.\n",
    "\n",
    "    Parameters:\n",
    "    -----------\n",
    "    data : pd.DataFrame\n",
    "        DataFrame containing the spend data.\n",
    "    group_column : str\n",
    "        The column name by which to group the data (e.g., 'level_1_category').\n",
    "    amount_column : str\n",
    "        The numeric column to aggregate and plot (default is 'amount').\n",
    "    title_prefix : str\n",
    "        String to prefix the chart title (default is 'Pareto Chart by').\n",
    "    \"\"\"\n",
    "    # 1. Group the data by the chosen column and sum the amounts\n",
    "    grouped_data = (\n",
    "        data.groupby(group_column)[amount_column]\n",
    "            .sum()\n",
    "            .sort_values(ascending=False)\n",
    "            .reset_index()\n",
    "    )\n",
    "\n",
    "    # 2. Calculate the cumulative sum and cumulative percentage\n",
    "    grouped_data['cumulative_sum'] = grouped_data[amount_column].cumsum()\n",
    "    total_sum = grouped_data[amount_column].sum()\n",
    "    grouped_data['cumulative_percent'] = (100 * grouped_data['cumulative_sum'] / total_sum).round(2)\n",
    "\n",
    "    # 3. Create the Pareto chart using Plotly\n",
    "    fig = go.Figure()\n",
    "\n",
    "    # Add bar chart\n",
    "    fig.add_trace(\n",
    "        go.Bar(\n",
    "            x=grouped_data[group_column],\n",
    "            y=grouped_data[amount_column],\n",
    "            name='Amount',\n",
    "            marker_color='rgb(8, 81, 156)',  # Dark blue\n",
    "            opacity=0.7\n",
    "        )\n",
    "    )\n",
    "\n",
    "    # Add line chart for cumulative percentage\n",
    "    fig.add_trace(\n",
    "        go.Scatter(\n",
    "            x=grouped_data[group_column],\n",
    "            y=grouped_data['cumulative_percent'],\n",
    "            name='Cumulative %',\n",
    "            yaxis='y2',\n",
    "            line=dict(color='rgb(255, 0, 0)'),  # Red\n",
    "            mode='lines+markers'\n",
    "        )\n",
    "    )\n",
    "\n",
    "    # Update layout\n",
    "    fig.update_layout(\n",
    "        title=f'{title_prefix} {group_column}',\n",
    "        xaxis=dict(\n",
    "            title=group_column,\n",
    "            tickangle=45\n",
    "        ),\n",
    "        yaxis=dict(\n",
    "            title='Amount',\n",
    "            side='left'\n",
    "        ),\n",
    "        yaxis2=dict(\n",
    "            title='Cumulative %',\n",
    "            side='right',\n",
    "            overlaying='y',\n",
    "            range=[0, 100]\n",
    "        ),\n",
    "        showlegend=True,\n",
    "        legend=dict(x=1.1),  # Move legend slightly to the right\n",
    "        height=600,\n",
    "        width=1000,\n",
    "        hovermode='x unified'\n",
    "    )\n",
    "\n",
    "    # Save to HTML file\n",
    "    filename = f'pareto_{group_column}.html'\n",
    "    fig.write_html(filename)\n",
    "    \n",
    "    # Display the figure\n",
    "    fig.show()\n",
    "\n",
    "# Example usage 1: Pareto analysis at the top (level 1) category\n",
    "create_pareto(coffee_shop_spend, group_column='level_1_category')\n",
    "\n",
    "# Example usage 2: Pareto analysis by level_2_category\n",
    "create_pareto(coffee_shop_spend, group_column='level_2_category')"
   ]
  },
  {
   "cell_type": "markdown",
   "metadata": {},
   "source": [
    "### Treemap ###\n",
    "\n",
    "This treemap visually illustrates the coffee shop’s spending hierarchy by sizing each rectangle according to the relative amount spent (logarithmic scale to improve readability). The larger and darker blue rectangles, like Labor and Rent & Lease, immediately convey the biggest cost drivers. Within each top-level category, subcategories can be expanded to show how smaller costs add up within the broader spend areas. By examining this breakdown, teams can quickly identify and prioritize where to focus cost management and procurement strategies."
   ]
  },
  {
   "cell_type": "code",
   "execution_count": 52,
   "metadata": {},
   "outputs": [
    {
     "data": {
      "application/vnd.plotly.v1+json": {
       "config": {
        "plotlyServerURL": "https://plot.ly"
       },
       "data": [
        {
         "branchvalues": "total",
         "customdata": [
          [
           200,
           5.298317366548036
          ],
          [
           2800,
           7.937374696163295
          ],
          [
           650,
           6.476972362889683
          ],
          [
           6500,
           8.779557455883728
          ],
          [
           350,
           5.85793315448346
          ],
          [
           600,
           6.396929655216146
          ],
          [
           1800,
           7.495541943884256
          ],
          [
           1200,
           7.090076835776092
          ],
          [
           450,
           6.1092475827643655
          ],
          [
           600,
           6.396929655216146
          ],
          [
           12500,
           9.433483923290392
          ],
          [
           450,
           6.1092475827643655
          ],
          [
           8500,
           9.047821442478408
          ],
          [
           1200,
           7.090076835776092
          ],
          [
           450,
           6.1092475827643655
          ],
          [
           450,
           6.1092475827643655
          ],
          [
           180,
           5.19295685089021
          ],
          [
           800,
           6.684611727667927
          ],
          [
           1200,
           7.090076835776092
          ],
          [
           350,
           5.85793315448346
          ],
          [
           450,
           6.1092475827643655
          ],
          [
           380,
           5.9401712527204324
          ],
          [
           250,
           5.521460917862246
          ],
          [
           2000,
           6.927890792532826
          ],
          [
           600,
           6.396929655216146
          ],
          [
           430,
           5.383947587501859
          ],
          [
           1800,
           6.859027775589443
          ],
          [
           1650,
           6.822577948591075
          ],
          [
           1100,
           6.326539498292962
          ],
          [
           2250,
           7.218283071660278
          ],
          [
           6500,
           8.779557455883728
          ],
          [
           3250,
           7.6842494035388285
          ],
          [
           21000,
           9.277382442961732
          ],
          [
           550,
           5.654436504325124
          ],
          [
           800,
           5.999297520391469
          ],
          [
           380,
           5.9401712527204324
          ],
          [
           800,
           5.999297520391469
          ],
          [
           5600,
           7.219642970525179
          ],
          [
           21000,
           9.277382442961732
          ],
          [
           1100,
           6.326539498292962
          ],
          [
           2000,
           6.927890792532826
          ],
          [
           6500,
           8.779557455883728
          ],
          [
           430,
           5.383947587501859
          ],
          [
           2850,
           7.0453665629351985
          ],
          [
           2030,
           6.657398370053713
          ]
         ],
         "domain": {
          "x": [
           0,
           1
          ],
          "y": [
           0,
           1
          ]
         },
         "hovertemplate": "labels=%{label}<br>amount=%{customdata[0]:,.2f}<br>parent=%{parent}<br>id=%{id}<br>Amount Spent (log scale)=%{color:,.2f}<extra></extra>",
         "ids": [
          "Inventory/Sweeteners/Artificial",
          "Inventory/Raw Materials/Coffee Beans",
          "Maintenance/Equipment/Coffee Machines",
          "Rent & Lease/Property/Coffee Shop Rent",
          "Equipment/Technology/Computers",
          "Inventory/Dairy Products/Cream",
          "Supplies/Packaging/Cups",
          "Utilities/Energy/Electricity",
          "Utilities/Energy/Gas",
          "Supplies/Cleaning/General Cleaning",
          "Labor/Salaries/Hourly Staff",
          "Maintenance/Equipment/Kitchen Equipment",
          "Labor/Salaries/Management",
          "Inventory/Dairy Products/Milk",
          "Supplies/Packaging/Napkins",
          "Equipment/Technology/POS System",
          "Services/Communication/Phone",
          "Marketing/Advertising/Print Ads",
          "Marketing/Advertising/Social Media",
          "Inventory/Sweeteners/Sugar",
          "Inventory/Raw Materials/Tea Leaves",
          "Utilities/Water/Water Usage",
          "Services/Communication/Wi-Fi",
          "Marketing/Advertising",
          "Supplies/Cleaning",
          "Services/Communication",
          "Inventory/Dairy Products",
          "Utilities/Energy",
          "Maintenance/Equipment",
          "Supplies/Packaging",
          "Rent & Lease/Property",
          "Inventory/Raw Materials",
          "Labor/Salaries",
          "Inventory/Sweeteners",
          "Equipment/Technology",
          "Utilities/Water",
          "Equipment",
          "Inventory",
          "Labor",
          "Maintenance",
          "Marketing",
          "Rent & Lease",
          "Services",
          "Supplies",
          "Utilities"
         ],
         "labels": [
          "Artificial",
          "Coffee Beans",
          "Coffee Machines",
          "Coffee Shop Rent",
          "Computers",
          "Cream",
          "Cups",
          "Electricity",
          "Gas",
          "General Cleaning",
          "Hourly Staff",
          "Kitchen Equipment",
          "Management",
          "Milk",
          "Napkins",
          "POS System",
          "Phone",
          "Print Ads",
          "Social Media",
          "Sugar",
          "Tea Leaves",
          "Water Usage",
          "Wi-Fi",
          "Advertising",
          "Cleaning",
          "Communication",
          "Dairy Products",
          "Energy",
          "Equipment",
          "Packaging",
          "Property",
          "Raw Materials",
          "Salaries",
          "Sweeteners",
          "Technology",
          "Water",
          "Equipment",
          "Inventory",
          "Labor",
          "Maintenance",
          "Marketing",
          "Rent & Lease",
          "Services",
          "Supplies",
          "Utilities"
         ],
         "marker": {
          "coloraxis": "coloraxis",
          "colors": [
           5.298317366548036,
           7.937374696163295,
           6.476972362889683,
           8.779557455883728,
           5.85793315448346,
           6.396929655216146,
           7.495541943884256,
           7.090076835776092,
           6.1092475827643655,
           6.396929655216146,
           9.433483923290392,
           6.1092475827643655,
           9.047821442478408,
           7.090076835776092,
           6.1092475827643655,
           6.1092475827643655,
           5.19295685089021,
           6.684611727667927,
           7.090076835776092,
           5.85793315448346,
           6.1092475827643655,
           5.9401712527204324,
           5.521460917862246,
           6.927890792532826,
           6.396929655216146,
           5.383947587501859,
           6.859027775589443,
           6.822577948591075,
           6.326539498292962,
           7.218283071660278,
           8.779557455883728,
           7.6842494035388285,
           9.277382442961732,
           5.654436504325124,
           5.999297520391469,
           5.9401712527204324,
           5.999297520391469,
           7.219642970525179,
           9.277382442961732,
           6.326539498292962,
           6.927890792532826,
           8.779557455883728,
           5.383947587501859,
           7.0453665629351985,
           6.657398370053713
          ]
         },
         "name": "",
         "parents": [
          "Inventory/Sweeteners",
          "Inventory/Raw Materials",
          "Maintenance/Equipment",
          "Rent & Lease/Property",
          "Equipment/Technology",
          "Inventory/Dairy Products",
          "Supplies/Packaging",
          "Utilities/Energy",
          "Utilities/Energy",
          "Supplies/Cleaning",
          "Labor/Salaries",
          "Maintenance/Equipment",
          "Labor/Salaries",
          "Inventory/Dairy Products",
          "Supplies/Packaging",
          "Equipment/Technology",
          "Services/Communication",
          "Marketing/Advertising",
          "Marketing/Advertising",
          "Inventory/Sweeteners",
          "Inventory/Raw Materials",
          "Utilities/Water",
          "Services/Communication",
          "Marketing",
          "Supplies",
          "Services",
          "Inventory",
          "Utilities",
          "Maintenance",
          "Supplies",
          "Rent & Lease",
          "Inventory",
          "Labor",
          "Inventory",
          "Equipment",
          "Utilities",
          "",
          "",
          "",
          "",
          "",
          "",
          "",
          "",
          ""
         ],
         "type": "treemap",
         "values": [
          200,
          2800,
          650,
          6500,
          350,
          600,
          1800,
          1200,
          450,
          600,
          12500,
          450,
          8500,
          1200,
          450,
          450,
          180,
          800,
          1200,
          350,
          450,
          380,
          250,
          2000,
          600,
          430,
          1800,
          1650,
          1100,
          2250,
          6500,
          3250,
          21000,
          550,
          800,
          380,
          800,
          5600,
          21000,
          1100,
          2000,
          6500,
          430,
          2850,
          2030
         ]
        }
       ],
       "layout": {
        "coloraxis": {
         "colorbar": {
          "title": {
           "text": "Amount Spent (log scale)"
          }
         },
         "colorscale": [
          [
           0,
           "rgb(247,251,255)"
          ],
          [
           0.125,
           "rgb(222,235,247)"
          ],
          [
           0.25,
           "rgb(198,219,239)"
          ],
          [
           0.375,
           "rgb(158,202,225)"
          ],
          [
           0.5,
           "rgb(107,174,214)"
          ],
          [
           0.625,
           "rgb(66,146,198)"
          ],
          [
           0.75,
           "rgb(33,113,181)"
          ],
          [
           0.875,
           "rgb(8,81,156)"
          ],
          [
           1,
           "rgb(8,48,107)"
          ]
         ]
        },
        "legend": {
         "tracegroupgap": 0
        },
        "template": {
         "data": {
          "bar": [
           {
            "error_x": {
             "color": "#2a3f5f"
            },
            "error_y": {
             "color": "#2a3f5f"
            },
            "marker": {
             "line": {
              "color": "#E5ECF6",
              "width": 0.5
             },
             "pattern": {
              "fillmode": "overlay",
              "size": 10,
              "solidity": 0.2
             }
            },
            "type": "bar"
           }
          ],
          "barpolar": [
           {
            "marker": {
             "line": {
              "color": "#E5ECF6",
              "width": 0.5
             },
             "pattern": {
              "fillmode": "overlay",
              "size": 10,
              "solidity": 0.2
             }
            },
            "type": "barpolar"
           }
          ],
          "carpet": [
           {
            "aaxis": {
             "endlinecolor": "#2a3f5f",
             "gridcolor": "white",
             "linecolor": "white",
             "minorgridcolor": "white",
             "startlinecolor": "#2a3f5f"
            },
            "baxis": {
             "endlinecolor": "#2a3f5f",
             "gridcolor": "white",
             "linecolor": "white",
             "minorgridcolor": "white",
             "startlinecolor": "#2a3f5f"
            },
            "type": "carpet"
           }
          ],
          "choropleth": [
           {
            "colorbar": {
             "outlinewidth": 0,
             "ticks": ""
            },
            "type": "choropleth"
           }
          ],
          "contour": [
           {
            "colorbar": {
             "outlinewidth": 0,
             "ticks": ""
            },
            "colorscale": [
             [
              0,
              "#0d0887"
             ],
             [
              0.1111111111111111,
              "#46039f"
             ],
             [
              0.2222222222222222,
              "#7201a8"
             ],
             [
              0.3333333333333333,
              "#9c179e"
             ],
             [
              0.4444444444444444,
              "#bd3786"
             ],
             [
              0.5555555555555556,
              "#d8576b"
             ],
             [
              0.6666666666666666,
              "#ed7953"
             ],
             [
              0.7777777777777778,
              "#fb9f3a"
             ],
             [
              0.8888888888888888,
              "#fdca26"
             ],
             [
              1,
              "#f0f921"
             ]
            ],
            "type": "contour"
           }
          ],
          "contourcarpet": [
           {
            "colorbar": {
             "outlinewidth": 0,
             "ticks": ""
            },
            "type": "contourcarpet"
           }
          ],
          "heatmap": [
           {
            "colorbar": {
             "outlinewidth": 0,
             "ticks": ""
            },
            "colorscale": [
             [
              0,
              "#0d0887"
             ],
             [
              0.1111111111111111,
              "#46039f"
             ],
             [
              0.2222222222222222,
              "#7201a8"
             ],
             [
              0.3333333333333333,
              "#9c179e"
             ],
             [
              0.4444444444444444,
              "#bd3786"
             ],
             [
              0.5555555555555556,
              "#d8576b"
             ],
             [
              0.6666666666666666,
              "#ed7953"
             ],
             [
              0.7777777777777778,
              "#fb9f3a"
             ],
             [
              0.8888888888888888,
              "#fdca26"
             ],
             [
              1,
              "#f0f921"
             ]
            ],
            "type": "heatmap"
           }
          ],
          "heatmapgl": [
           {
            "colorbar": {
             "outlinewidth": 0,
             "ticks": ""
            },
            "colorscale": [
             [
              0,
              "#0d0887"
             ],
             [
              0.1111111111111111,
              "#46039f"
             ],
             [
              0.2222222222222222,
              "#7201a8"
             ],
             [
              0.3333333333333333,
              "#9c179e"
             ],
             [
              0.4444444444444444,
              "#bd3786"
             ],
             [
              0.5555555555555556,
              "#d8576b"
             ],
             [
              0.6666666666666666,
              "#ed7953"
             ],
             [
              0.7777777777777778,
              "#fb9f3a"
             ],
             [
              0.8888888888888888,
              "#fdca26"
             ],
             [
              1,
              "#f0f921"
             ]
            ],
            "type": "heatmapgl"
           }
          ],
          "histogram": [
           {
            "marker": {
             "pattern": {
              "fillmode": "overlay",
              "size": 10,
              "solidity": 0.2
             }
            },
            "type": "histogram"
           }
          ],
          "histogram2d": [
           {
            "colorbar": {
             "outlinewidth": 0,
             "ticks": ""
            },
            "colorscale": [
             [
              0,
              "#0d0887"
             ],
             [
              0.1111111111111111,
              "#46039f"
             ],
             [
              0.2222222222222222,
              "#7201a8"
             ],
             [
              0.3333333333333333,
              "#9c179e"
             ],
             [
              0.4444444444444444,
              "#bd3786"
             ],
             [
              0.5555555555555556,
              "#d8576b"
             ],
             [
              0.6666666666666666,
              "#ed7953"
             ],
             [
              0.7777777777777778,
              "#fb9f3a"
             ],
             [
              0.8888888888888888,
              "#fdca26"
             ],
             [
              1,
              "#f0f921"
             ]
            ],
            "type": "histogram2d"
           }
          ],
          "histogram2dcontour": [
           {
            "colorbar": {
             "outlinewidth": 0,
             "ticks": ""
            },
            "colorscale": [
             [
              0,
              "#0d0887"
             ],
             [
              0.1111111111111111,
              "#46039f"
             ],
             [
              0.2222222222222222,
              "#7201a8"
             ],
             [
              0.3333333333333333,
              "#9c179e"
             ],
             [
              0.4444444444444444,
              "#bd3786"
             ],
             [
              0.5555555555555556,
              "#d8576b"
             ],
             [
              0.6666666666666666,
              "#ed7953"
             ],
             [
              0.7777777777777778,
              "#fb9f3a"
             ],
             [
              0.8888888888888888,
              "#fdca26"
             ],
             [
              1,
              "#f0f921"
             ]
            ],
            "type": "histogram2dcontour"
           }
          ],
          "mesh3d": [
           {
            "colorbar": {
             "outlinewidth": 0,
             "ticks": ""
            },
            "type": "mesh3d"
           }
          ],
          "parcoords": [
           {
            "line": {
             "colorbar": {
              "outlinewidth": 0,
              "ticks": ""
             }
            },
            "type": "parcoords"
           }
          ],
          "pie": [
           {
            "automargin": true,
            "type": "pie"
           }
          ],
          "scatter": [
           {
            "fillpattern": {
             "fillmode": "overlay",
             "size": 10,
             "solidity": 0.2
            },
            "type": "scatter"
           }
          ],
          "scatter3d": [
           {
            "line": {
             "colorbar": {
              "outlinewidth": 0,
              "ticks": ""
             }
            },
            "marker": {
             "colorbar": {
              "outlinewidth": 0,
              "ticks": ""
             }
            },
            "type": "scatter3d"
           }
          ],
          "scattercarpet": [
           {
            "marker": {
             "colorbar": {
              "outlinewidth": 0,
              "ticks": ""
             }
            },
            "type": "scattercarpet"
           }
          ],
          "scattergeo": [
           {
            "marker": {
             "colorbar": {
              "outlinewidth": 0,
              "ticks": ""
             }
            },
            "type": "scattergeo"
           }
          ],
          "scattergl": [
           {
            "marker": {
             "colorbar": {
              "outlinewidth": 0,
              "ticks": ""
             }
            },
            "type": "scattergl"
           }
          ],
          "scattermapbox": [
           {
            "marker": {
             "colorbar": {
              "outlinewidth": 0,
              "ticks": ""
             }
            },
            "type": "scattermapbox"
           }
          ],
          "scatterpolar": [
           {
            "marker": {
             "colorbar": {
              "outlinewidth": 0,
              "ticks": ""
             }
            },
            "type": "scatterpolar"
           }
          ],
          "scatterpolargl": [
           {
            "marker": {
             "colorbar": {
              "outlinewidth": 0,
              "ticks": ""
             }
            },
            "type": "scatterpolargl"
           }
          ],
          "scatterternary": [
           {
            "marker": {
             "colorbar": {
              "outlinewidth": 0,
              "ticks": ""
             }
            },
            "type": "scatterternary"
           }
          ],
          "surface": [
           {
            "colorbar": {
             "outlinewidth": 0,
             "ticks": ""
            },
            "colorscale": [
             [
              0,
              "#0d0887"
             ],
             [
              0.1111111111111111,
              "#46039f"
             ],
             [
              0.2222222222222222,
              "#7201a8"
             ],
             [
              0.3333333333333333,
              "#9c179e"
             ],
             [
              0.4444444444444444,
              "#bd3786"
             ],
             [
              0.5555555555555556,
              "#d8576b"
             ],
             [
              0.6666666666666666,
              "#ed7953"
             ],
             [
              0.7777777777777778,
              "#fb9f3a"
             ],
             [
              0.8888888888888888,
              "#fdca26"
             ],
             [
              1,
              "#f0f921"
             ]
            ],
            "type": "surface"
           }
          ],
          "table": [
           {
            "cells": {
             "fill": {
              "color": "#EBF0F8"
             },
             "line": {
              "color": "white"
             }
            },
            "header": {
             "fill": {
              "color": "#C8D4E3"
             },
             "line": {
              "color": "white"
             }
            },
            "type": "table"
           }
          ]
         },
         "layout": {
          "annotationdefaults": {
           "arrowcolor": "#2a3f5f",
           "arrowhead": 0,
           "arrowwidth": 1
          },
          "autotypenumbers": "strict",
          "coloraxis": {
           "colorbar": {
            "outlinewidth": 0,
            "ticks": ""
           }
          },
          "colorscale": {
           "diverging": [
            [
             0,
             "#8e0152"
            ],
            [
             0.1,
             "#c51b7d"
            ],
            [
             0.2,
             "#de77ae"
            ],
            [
             0.3,
             "#f1b6da"
            ],
            [
             0.4,
             "#fde0ef"
            ],
            [
             0.5,
             "#f7f7f7"
            ],
            [
             0.6,
             "#e6f5d0"
            ],
            [
             0.7,
             "#b8e186"
            ],
            [
             0.8,
             "#7fbc41"
            ],
            [
             0.9,
             "#4d9221"
            ],
            [
             1,
             "#276419"
            ]
           ],
           "sequential": [
            [
             0,
             "#0d0887"
            ],
            [
             0.1111111111111111,
             "#46039f"
            ],
            [
             0.2222222222222222,
             "#7201a8"
            ],
            [
             0.3333333333333333,
             "#9c179e"
            ],
            [
             0.4444444444444444,
             "#bd3786"
            ],
            [
             0.5555555555555556,
             "#d8576b"
            ],
            [
             0.6666666666666666,
             "#ed7953"
            ],
            [
             0.7777777777777778,
             "#fb9f3a"
            ],
            [
             0.8888888888888888,
             "#fdca26"
            ],
            [
             1,
             "#f0f921"
            ]
           ],
           "sequentialminus": [
            [
             0,
             "#0d0887"
            ],
            [
             0.1111111111111111,
             "#46039f"
            ],
            [
             0.2222222222222222,
             "#7201a8"
            ],
            [
             0.3333333333333333,
             "#9c179e"
            ],
            [
             0.4444444444444444,
             "#bd3786"
            ],
            [
             0.5555555555555556,
             "#d8576b"
            ],
            [
             0.6666666666666666,
             "#ed7953"
            ],
            [
             0.7777777777777778,
             "#fb9f3a"
            ],
            [
             0.8888888888888888,
             "#fdca26"
            ],
            [
             1,
             "#f0f921"
            ]
           ]
          },
          "colorway": [
           "#636efa",
           "#EF553B",
           "#00cc96",
           "#ab63fa",
           "#FFA15A",
           "#19d3f3",
           "#FF6692",
           "#B6E880",
           "#FF97FF",
           "#FECB52"
          ],
          "font": {
           "color": "#2a3f5f"
          },
          "geo": {
           "bgcolor": "white",
           "lakecolor": "white",
           "landcolor": "#E5ECF6",
           "showlakes": true,
           "showland": true,
           "subunitcolor": "white"
          },
          "hoverlabel": {
           "align": "left"
          },
          "hovermode": "closest",
          "mapbox": {
           "style": "light"
          },
          "paper_bgcolor": "white",
          "plot_bgcolor": "#E5ECF6",
          "polar": {
           "angularaxis": {
            "gridcolor": "white",
            "linecolor": "white",
            "ticks": ""
           },
           "bgcolor": "#E5ECF6",
           "radialaxis": {
            "gridcolor": "white",
            "linecolor": "white",
            "ticks": ""
           }
          },
          "scene": {
           "xaxis": {
            "backgroundcolor": "#E5ECF6",
            "gridcolor": "white",
            "gridwidth": 2,
            "linecolor": "white",
            "showbackground": true,
            "ticks": "",
            "zerolinecolor": "white"
           },
           "yaxis": {
            "backgroundcolor": "#E5ECF6",
            "gridcolor": "white",
            "gridwidth": 2,
            "linecolor": "white",
            "showbackground": true,
            "ticks": "",
            "zerolinecolor": "white"
           },
           "zaxis": {
            "backgroundcolor": "#E5ECF6",
            "gridcolor": "white",
            "gridwidth": 2,
            "linecolor": "white",
            "showbackground": true,
            "ticks": "",
            "zerolinecolor": "white"
           }
          },
          "shapedefaults": {
           "line": {
            "color": "#2a3f5f"
           }
          },
          "ternary": {
           "aaxis": {
            "gridcolor": "white",
            "linecolor": "white",
            "ticks": ""
           },
           "baxis": {
            "gridcolor": "white",
            "linecolor": "white",
            "ticks": ""
           },
           "bgcolor": "#E5ECF6",
           "caxis": {
            "gridcolor": "white",
            "linecolor": "white",
            "ticks": ""
           }
          },
          "title": {
           "x": 0.05
          },
          "xaxis": {
           "automargin": true,
           "gridcolor": "white",
           "linecolor": "white",
           "ticks": "",
           "title": {
            "standoff": 15
           },
           "zerolinecolor": "white",
           "zerolinewidth": 2
          },
          "yaxis": {
           "automargin": true,
           "gridcolor": "white",
           "linecolor": "white",
           "ticks": "",
           "title": {
            "standoff": 15
           },
           "zerolinecolor": "white",
           "zerolinewidth": 2
          }
         }
        },
        "title": {
         "text": "Coffee Shop Spend Breakdown"
        }
       }
      }
     },
     "metadata": {},
     "output_type": "display_data"
    }
   ],
   "source": [
    "def create_treemap(level_type='level1', category=None):\n",
    "    \"\"\"\n",
    "    Create a treemap visualization filtered by a specific taxonomy level and category\n",
    "    \n",
    "    Parameters:\n",
    "    level_type (str): The level to filter by ('level1', 'level2', or 'level3')\n",
    "    category (str): The specific category value to filter for\n",
    "    \"\"\"\n",
    "    # Filter data by the selected category, if applicable\n",
    "    if category is not None:\n",
    "        filtered_spend = coffee_shop_spend[coffee_shop_spend[level_type] == category].copy()\n",
    "    else:\n",
    "        filtered_spend = coffee_shop_spend.copy()\n",
    "    \n",
    "    # Remove line items with totalAmount <= 0\n",
    "    filtered_spend = filtered_spend[filtered_spend['amount'] > 0]\n",
    "    \n",
    "    # Add a new column logTotalAmount as the logarithm of totalAmount\n",
    "    filtered_spend['logAmount'] = np.log(filtered_spend['amount'])\n",
    "    \n",
    "     # Determine levels for grouping based on level_type\n",
    "    levels = ['level_1_category', 'level_2_category', 'level_3_category']\n",
    "    if level_type == 'level_2_category':\n",
    "        levels = ['level_2_category', 'level_3_category']\n",
    "    \n",
    "    # Group data and calculate sums for both totalAmount and logTotalAmount\n",
    "    treemap_data = (\n",
    "        filtered_spend.groupby(levels)\n",
    "        .agg({'amount': 'sum', 'logAmount': 'sum'})\n",
    "        .reset_index()\n",
    "    )\n",
    "    \n",
    "    # Get the top 30 categories by totalAmount\n",
    "    treemap_data = treemap_data.nlargest(30, 'amount')\n",
    "    \n",
    "    # Set title\n",
    "    title = \"Coffee Shop Spend Breakdown\"\n",
    "    \n",
    "    # Updated color sequence for treemap\n",
    "    color_sequence = px.colors.sequential.Blues  # Sequential for positive values\n",
    "    \n",
    "    # Create the treemap\n",
    "    fig_treemap = px.treemap(\n",
    "        treemap_data,\n",
    "        path=levels,\n",
    "        values='amount',  # Default metric for size\n",
    "        color='logAmount',  # Color intensity based on logAmount\n",
    "        title=title,\n",
    "        hover_data={'amount': ':,.2f', 'logAmount': ':,.2f'},\n",
    "        color_continuous_scale=color_sequence,  # Updated color sequence\n",
    "        color_continuous_midpoint=None,\n",
    "        labels={'logAmount': 'Amount Spent (log scale)'}  # Rename the color gradient label\n",
    "    )\n",
    "    \n",
    "    # Save to HTML file\n",
    "    fig_treemap.write_html(\"treemap.html\")\n",
    "    \n",
    "    # Display in notebook\n",
    "    fig_treemap.show()\n",
    "    \n",
    "    return treemap_data\n",
    "\n",
    "# Example usage:\n",
    "treemap_data = create_treemap(level_type='level_1_category')\n"
   ]
  },
  {
   "cell_type": "markdown",
   "metadata": {},
   "source": [
    "### Sankey ###\n",
    "\n",
    " A Sankey diagram shows how a total (in this case, the coffee shop’s spending) flows through multiple categories, with the width of each flow indicating its relative size. It’s particularly useful for highlighting where the bulk of costs occur and how they break down across subcategories. For example, the diagram above provides a clear visual of how costs are distributed within the Inventory Level 1 and 2 sub categories."
   ]
  },
  {
   "cell_type": "code",
   "execution_count": 53,
   "metadata": {},
   "outputs": [
    {
     "data": {
      "application/vnd.plotly.v1+json": {
       "config": {
        "plotlyServerURL": "https://plot.ly"
       },
       "data": [
        {
         "link": {
          "color": [
           "rgb(8,48,107)",
           "rgb(8,48,107)",
           "rgb(8,48,107)",
           "rgb(8,48,107)",
           "rgb(8,48,107)",
           "rgb(8,48,107)",
           "rgb(8,81,156)",
           "rgb(8,81,156)",
           "rgb(8,48,107)",
           "rgb(8,48,107)",
           "rgb(33,113,181)",
           "rgb(33,113,181)"
          ],
          "source": [
           0,
           0,
           0,
           0,
           0,
           0,
           2,
           2,
           1,
           1,
           3,
           3
          ],
          "target": [
           2,
           2,
           1,
           1,
           3,
           3,
           6,
           5,
           4,
           7,
           9,
           8
          ],
          "value": [
           600,
           1200,
           2800,
           450,
           200,
           350,
           600,
           1200,
           2800,
           450,
           200,
           350
          ]
         },
         "node": {
          "color": [
           "rgb(8,48,107)",
           "rgb(8,48,107)",
           "rgb(8,81,156)",
           "rgb(33,113,181)",
           "rgb(8,48,107)",
           "rgb(8,81,156)",
           "rgb(33,113,181)",
           "rgb(66,146,198)",
           "rgb(107,174,214)",
           "rgb(158,202,225)"
          ],
          "customdata": [
           "Inventory ($5,600)",
           "Raw Materials ($3,250)",
           "Dairy Products ($1,800)",
           "Sweeteners ($550)",
           "Coffee Beans ($2,800)",
           "Milk ($1,200)",
           "Cream ($600)",
           "Tea Leaves ($450)",
           "Sugar ($350)",
           "Artificial ($200)"
          ],
          "hovertemplate": "%{customdata}<extra></extra>",
          "label": [
           "Inventory ($5,600)",
           "Raw Materials ($3,250)",
           "Dairy Products ($1,800)",
           "Sweeteners ($550)",
           "Coffee Beans ($2,800)",
           "Milk ($1,200)",
           "Cream ($600)",
           "Tea Leaves ($450)",
           "Sugar ($350)",
           "Artificial ($200)"
          ],
          "line": {
           "color": "white",
           "width": 0.5
          },
          "pad": 15,
          "thickness": 20
         },
         "type": "sankey"
        }
       ],
       "layout": {
        "font": {
         "size": 10
        },
        "plot_bgcolor": "white",
        "template": {
         "data": {
          "bar": [
           {
            "error_x": {
             "color": "#2a3f5f"
            },
            "error_y": {
             "color": "#2a3f5f"
            },
            "marker": {
             "line": {
              "color": "#E5ECF6",
              "width": 0.5
             },
             "pattern": {
              "fillmode": "overlay",
              "size": 10,
              "solidity": 0.2
             }
            },
            "type": "bar"
           }
          ],
          "barpolar": [
           {
            "marker": {
             "line": {
              "color": "#E5ECF6",
              "width": 0.5
             },
             "pattern": {
              "fillmode": "overlay",
              "size": 10,
              "solidity": 0.2
             }
            },
            "type": "barpolar"
           }
          ],
          "carpet": [
           {
            "aaxis": {
             "endlinecolor": "#2a3f5f",
             "gridcolor": "white",
             "linecolor": "white",
             "minorgridcolor": "white",
             "startlinecolor": "#2a3f5f"
            },
            "baxis": {
             "endlinecolor": "#2a3f5f",
             "gridcolor": "white",
             "linecolor": "white",
             "minorgridcolor": "white",
             "startlinecolor": "#2a3f5f"
            },
            "type": "carpet"
           }
          ],
          "choropleth": [
           {
            "colorbar": {
             "outlinewidth": 0,
             "ticks": ""
            },
            "type": "choropleth"
           }
          ],
          "contour": [
           {
            "colorbar": {
             "outlinewidth": 0,
             "ticks": ""
            },
            "colorscale": [
             [
              0,
              "#0d0887"
             ],
             [
              0.1111111111111111,
              "#46039f"
             ],
             [
              0.2222222222222222,
              "#7201a8"
             ],
             [
              0.3333333333333333,
              "#9c179e"
             ],
             [
              0.4444444444444444,
              "#bd3786"
             ],
             [
              0.5555555555555556,
              "#d8576b"
             ],
             [
              0.6666666666666666,
              "#ed7953"
             ],
             [
              0.7777777777777778,
              "#fb9f3a"
             ],
             [
              0.8888888888888888,
              "#fdca26"
             ],
             [
              1,
              "#f0f921"
             ]
            ],
            "type": "contour"
           }
          ],
          "contourcarpet": [
           {
            "colorbar": {
             "outlinewidth": 0,
             "ticks": ""
            },
            "type": "contourcarpet"
           }
          ],
          "heatmap": [
           {
            "colorbar": {
             "outlinewidth": 0,
             "ticks": ""
            },
            "colorscale": [
             [
              0,
              "#0d0887"
             ],
             [
              0.1111111111111111,
              "#46039f"
             ],
             [
              0.2222222222222222,
              "#7201a8"
             ],
             [
              0.3333333333333333,
              "#9c179e"
             ],
             [
              0.4444444444444444,
              "#bd3786"
             ],
             [
              0.5555555555555556,
              "#d8576b"
             ],
             [
              0.6666666666666666,
              "#ed7953"
             ],
             [
              0.7777777777777778,
              "#fb9f3a"
             ],
             [
              0.8888888888888888,
              "#fdca26"
             ],
             [
              1,
              "#f0f921"
             ]
            ],
            "type": "heatmap"
           }
          ],
          "heatmapgl": [
           {
            "colorbar": {
             "outlinewidth": 0,
             "ticks": ""
            },
            "colorscale": [
             [
              0,
              "#0d0887"
             ],
             [
              0.1111111111111111,
              "#46039f"
             ],
             [
              0.2222222222222222,
              "#7201a8"
             ],
             [
              0.3333333333333333,
              "#9c179e"
             ],
             [
              0.4444444444444444,
              "#bd3786"
             ],
             [
              0.5555555555555556,
              "#d8576b"
             ],
             [
              0.6666666666666666,
              "#ed7953"
             ],
             [
              0.7777777777777778,
              "#fb9f3a"
             ],
             [
              0.8888888888888888,
              "#fdca26"
             ],
             [
              1,
              "#f0f921"
             ]
            ],
            "type": "heatmapgl"
           }
          ],
          "histogram": [
           {
            "marker": {
             "pattern": {
              "fillmode": "overlay",
              "size": 10,
              "solidity": 0.2
             }
            },
            "type": "histogram"
           }
          ],
          "histogram2d": [
           {
            "colorbar": {
             "outlinewidth": 0,
             "ticks": ""
            },
            "colorscale": [
             [
              0,
              "#0d0887"
             ],
             [
              0.1111111111111111,
              "#46039f"
             ],
             [
              0.2222222222222222,
              "#7201a8"
             ],
             [
              0.3333333333333333,
              "#9c179e"
             ],
             [
              0.4444444444444444,
              "#bd3786"
             ],
             [
              0.5555555555555556,
              "#d8576b"
             ],
             [
              0.6666666666666666,
              "#ed7953"
             ],
             [
              0.7777777777777778,
              "#fb9f3a"
             ],
             [
              0.8888888888888888,
              "#fdca26"
             ],
             [
              1,
              "#f0f921"
             ]
            ],
            "type": "histogram2d"
           }
          ],
          "histogram2dcontour": [
           {
            "colorbar": {
             "outlinewidth": 0,
             "ticks": ""
            },
            "colorscale": [
             [
              0,
              "#0d0887"
             ],
             [
              0.1111111111111111,
              "#46039f"
             ],
             [
              0.2222222222222222,
              "#7201a8"
             ],
             [
              0.3333333333333333,
              "#9c179e"
             ],
             [
              0.4444444444444444,
              "#bd3786"
             ],
             [
              0.5555555555555556,
              "#d8576b"
             ],
             [
              0.6666666666666666,
              "#ed7953"
             ],
             [
              0.7777777777777778,
              "#fb9f3a"
             ],
             [
              0.8888888888888888,
              "#fdca26"
             ],
             [
              1,
              "#f0f921"
             ]
            ],
            "type": "histogram2dcontour"
           }
          ],
          "mesh3d": [
           {
            "colorbar": {
             "outlinewidth": 0,
             "ticks": ""
            },
            "type": "mesh3d"
           }
          ],
          "parcoords": [
           {
            "line": {
             "colorbar": {
              "outlinewidth": 0,
              "ticks": ""
             }
            },
            "type": "parcoords"
           }
          ],
          "pie": [
           {
            "automargin": true,
            "type": "pie"
           }
          ],
          "scatter": [
           {
            "fillpattern": {
             "fillmode": "overlay",
             "size": 10,
             "solidity": 0.2
            },
            "type": "scatter"
           }
          ],
          "scatter3d": [
           {
            "line": {
             "colorbar": {
              "outlinewidth": 0,
              "ticks": ""
             }
            },
            "marker": {
             "colorbar": {
              "outlinewidth": 0,
              "ticks": ""
             }
            },
            "type": "scatter3d"
           }
          ],
          "scattercarpet": [
           {
            "marker": {
             "colorbar": {
              "outlinewidth": 0,
              "ticks": ""
             }
            },
            "type": "scattercarpet"
           }
          ],
          "scattergeo": [
           {
            "marker": {
             "colorbar": {
              "outlinewidth": 0,
              "ticks": ""
             }
            },
            "type": "scattergeo"
           }
          ],
          "scattergl": [
           {
            "marker": {
             "colorbar": {
              "outlinewidth": 0,
              "ticks": ""
             }
            },
            "type": "scattergl"
           }
          ],
          "scattermapbox": [
           {
            "marker": {
             "colorbar": {
              "outlinewidth": 0,
              "ticks": ""
             }
            },
            "type": "scattermapbox"
           }
          ],
          "scatterpolar": [
           {
            "marker": {
             "colorbar": {
              "outlinewidth": 0,
              "ticks": ""
             }
            },
            "type": "scatterpolar"
           }
          ],
          "scatterpolargl": [
           {
            "marker": {
             "colorbar": {
              "outlinewidth": 0,
              "ticks": ""
             }
            },
            "type": "scatterpolargl"
           }
          ],
          "scatterternary": [
           {
            "marker": {
             "colorbar": {
              "outlinewidth": 0,
              "ticks": ""
             }
            },
            "type": "scatterternary"
           }
          ],
          "surface": [
           {
            "colorbar": {
             "outlinewidth": 0,
             "ticks": ""
            },
            "colorscale": [
             [
              0,
              "#0d0887"
             ],
             [
              0.1111111111111111,
              "#46039f"
             ],
             [
              0.2222222222222222,
              "#7201a8"
             ],
             [
              0.3333333333333333,
              "#9c179e"
             ],
             [
              0.4444444444444444,
              "#bd3786"
             ],
             [
              0.5555555555555556,
              "#d8576b"
             ],
             [
              0.6666666666666666,
              "#ed7953"
             ],
             [
              0.7777777777777778,
              "#fb9f3a"
             ],
             [
              0.8888888888888888,
              "#fdca26"
             ],
             [
              1,
              "#f0f921"
             ]
            ],
            "type": "surface"
           }
          ],
          "table": [
           {
            "cells": {
             "fill": {
              "color": "#EBF0F8"
             },
             "line": {
              "color": "white"
             }
            },
            "header": {
             "fill": {
              "color": "#C8D4E3"
             },
             "line": {
              "color": "white"
             }
            },
            "type": "table"
           }
          ]
         },
         "layout": {
          "annotationdefaults": {
           "arrowcolor": "#2a3f5f",
           "arrowhead": 0,
           "arrowwidth": 1
          },
          "autotypenumbers": "strict",
          "coloraxis": {
           "colorbar": {
            "outlinewidth": 0,
            "ticks": ""
           }
          },
          "colorscale": {
           "diverging": [
            [
             0,
             "#8e0152"
            ],
            [
             0.1,
             "#c51b7d"
            ],
            [
             0.2,
             "#de77ae"
            ],
            [
             0.3,
             "#f1b6da"
            ],
            [
             0.4,
             "#fde0ef"
            ],
            [
             0.5,
             "#f7f7f7"
            ],
            [
             0.6,
             "#e6f5d0"
            ],
            [
             0.7,
             "#b8e186"
            ],
            [
             0.8,
             "#7fbc41"
            ],
            [
             0.9,
             "#4d9221"
            ],
            [
             1,
             "#276419"
            ]
           ],
           "sequential": [
            [
             0,
             "#0d0887"
            ],
            [
             0.1111111111111111,
             "#46039f"
            ],
            [
             0.2222222222222222,
             "#7201a8"
            ],
            [
             0.3333333333333333,
             "#9c179e"
            ],
            [
             0.4444444444444444,
             "#bd3786"
            ],
            [
             0.5555555555555556,
             "#d8576b"
            ],
            [
             0.6666666666666666,
             "#ed7953"
            ],
            [
             0.7777777777777778,
             "#fb9f3a"
            ],
            [
             0.8888888888888888,
             "#fdca26"
            ],
            [
             1,
             "#f0f921"
            ]
           ],
           "sequentialminus": [
            [
             0,
             "#0d0887"
            ],
            [
             0.1111111111111111,
             "#46039f"
            ],
            [
             0.2222222222222222,
             "#7201a8"
            ],
            [
             0.3333333333333333,
             "#9c179e"
            ],
            [
             0.4444444444444444,
             "#bd3786"
            ],
            [
             0.5555555555555556,
             "#d8576b"
            ],
            [
             0.6666666666666666,
             "#ed7953"
            ],
            [
             0.7777777777777778,
             "#fb9f3a"
            ],
            [
             0.8888888888888888,
             "#fdca26"
            ],
            [
             1,
             "#f0f921"
            ]
           ]
          },
          "colorway": [
           "#636efa",
           "#EF553B",
           "#00cc96",
           "#ab63fa",
           "#FFA15A",
           "#19d3f3",
           "#FF6692",
           "#B6E880",
           "#FF97FF",
           "#FECB52"
          ],
          "font": {
           "color": "#2a3f5f"
          },
          "geo": {
           "bgcolor": "white",
           "lakecolor": "white",
           "landcolor": "#E5ECF6",
           "showlakes": true,
           "showland": true,
           "subunitcolor": "white"
          },
          "hoverlabel": {
           "align": "left"
          },
          "hovermode": "closest",
          "mapbox": {
           "style": "light"
          },
          "paper_bgcolor": "white",
          "plot_bgcolor": "#E5ECF6",
          "polar": {
           "angularaxis": {
            "gridcolor": "white",
            "linecolor": "white",
            "ticks": ""
           },
           "bgcolor": "#E5ECF6",
           "radialaxis": {
            "gridcolor": "white",
            "linecolor": "white",
            "ticks": ""
           }
          },
          "scene": {
           "xaxis": {
            "backgroundcolor": "#E5ECF6",
            "gridcolor": "white",
            "gridwidth": 2,
            "linecolor": "white",
            "showbackground": true,
            "ticks": "",
            "zerolinecolor": "white"
           },
           "yaxis": {
            "backgroundcolor": "#E5ECF6",
            "gridcolor": "white",
            "gridwidth": 2,
            "linecolor": "white",
            "showbackground": true,
            "ticks": "",
            "zerolinecolor": "white"
           },
           "zaxis": {
            "backgroundcolor": "#E5ECF6",
            "gridcolor": "white",
            "gridwidth": 2,
            "linecolor": "white",
            "showbackground": true,
            "ticks": "",
            "zerolinecolor": "white"
           }
          },
          "shapedefaults": {
           "line": {
            "color": "#2a3f5f"
           }
          },
          "ternary": {
           "aaxis": {
            "gridcolor": "white",
            "linecolor": "white",
            "ticks": ""
           },
           "baxis": {
            "gridcolor": "white",
            "linecolor": "white",
            "ticks": ""
           },
           "bgcolor": "#E5ECF6",
           "caxis": {
            "gridcolor": "white",
            "linecolor": "white",
            "ticks": ""
           }
          },
          "title": {
           "x": 0.05
          },
          "xaxis": {
           "automargin": true,
           "gridcolor": "white",
           "linecolor": "white",
           "ticks": "",
           "title": {
            "standoff": 15
           },
           "zerolinecolor": "white",
           "zerolinewidth": 2
          },
          "yaxis": {
           "automargin": true,
           "gridcolor": "white",
           "linecolor": "white",
           "ticks": "",
           "title": {
            "standoff": 15
           },
           "zerolinecolor": "white",
           "zerolinewidth": 2
          }
         }
        },
        "title": {
         "text": "Coffee Shop Spend Sankey: level_1_category - Inventory"
        }
       }
      }
     },
     "metadata": {},
     "output_type": "display_data"
    }
   ],
   "source": [
    "def create_sankey(level_type='level_1_category', category=None):\n",
    "    \"\"\"Creates a Sankey diagram of coffee shop spend data.\n",
    "    \n",
    "    Args:\n",
    "        level_type (str): Category level to filter by ('level_1_category', 'level_2_category')\n",
    "        category (str, optional): Specific category to filter for\n",
    "    \"\"\"\n",
    "    # Filter and prepare data\n",
    "    filtered_spend = coffee_shop_spend[coffee_shop_spend['amount'] > 0].copy()\n",
    "    if category is not None:\n",
    "        filtered_spend = filtered_spend[filtered_spend[level_type] == category]\n",
    "    \n",
    "    # Set levels based on filter\n",
    "    levels = ['level_2_category', 'level_3_category'] if level_type == 'level_2_category' else ['level_1_category', 'level_2_category', 'level_3_category']\n",
    "    \n",
    "    # Group data\n",
    "    sankey_data = filtered_spend.groupby(levels).agg({'amount': 'sum'}).reset_index()\n",
    "    \n",
    "    # Generate labels with amounts\n",
    "    labels = []\n",
    "    label_amounts = {}\n",
    "    current_position = 0\n",
    "    \n",
    "    for level in levels:\n",
    "        level_sums = sankey_data.groupby(level)['amount'].sum().sort_values(ascending=False)\n",
    "        for label, amount in level_sums.items():\n",
    "            labels.append(f\"{label} (${amount:,.0f})\")\n",
    "            label_amounts[label] = amount\n",
    "        current_position += len(level_sums)\n",
    "\n",
    "    label_dict = {label: idx for idx, label in enumerate(labels)}\n",
    "    \n",
    "    # Create source-target pairs\n",
    "    sankey_sources = []\n",
    "    sankey_targets = []\n",
    "    for i in range(len(levels) - 1):\n",
    "        sources = sankey_data[levels[i]].map(lambda x: f\"{x} (${label_amounts[x]:,.0f})\")\n",
    "        targets = sankey_data[levels[i + 1]].map(lambda x: f\"{x} (${label_amounts[x]:,.0f})\")\n",
    "        sankey_sources.extend([label_dict[source] for source in sources])\n",
    "        sankey_targets.extend([label_dict[target] for target in targets])\n",
    "\n",
    "    # Use the same Blues color sequence as treemap\n",
    "    color_sequence = px.colors.sequential.Blues_r\n",
    "    \n",
    "    def get_category_colors(levels):\n",
    "        colors = {}\n",
    "        for level in levels:\n",
    "            sorted_cats = filtered_spend.groupby(level)['amount'].sum().sort_values(ascending=False).index\n",
    "            colors.update({cat: color_sequence[i % len(color_sequence)] for i, cat in enumerate(sorted_cats)})\n",
    "        return colors\n",
    "    \n",
    "    category_colors = get_category_colors(levels)\n",
    "    node_colors = [category_colors.get(label.split(' ($')[0], \"#CCCCCC\") for label in labels]\n",
    "    \n",
    "    # Create figure\n",
    "    fig = go.Figure(data=[go.Sankey(\n",
    "        node=dict(\n",
    "            pad=15,\n",
    "            thickness=20,\n",
    "            line=dict(color=\"white\", width=0.5),\n",
    "            label=labels,\n",
    "            color=node_colors,\n",
    "            customdata=labels,\n",
    "            hovertemplate='%{customdata}<extra></extra>'\n",
    "        ),\n",
    "        link=dict(\n",
    "            source=sankey_sources,\n",
    "            target=sankey_targets,\n",
    "            value=list(sankey_data['amount']) * (len(levels) - 1),\n",
    "            color=[node_colors[s] for s in sankey_sources]\n",
    "        )\n",
    "    )])\n",
    "\n",
    "    title_suffix = f\" - {category}\" if category else \"\"\n",
    "    fig.update_layout(\n",
    "        title_text=f\"Coffee Shop Spend Sankey: {level_type}{title_suffix}\",\n",
    "        font_size=10,\n",
    "        plot_bgcolor='white'\n",
    "    )\n",
    "    \n",
    "    fig.show()\n",
    "    fig.write_html(\"coffee_shop_sankey.html\")\n",
    "    return sankey_data\n",
    "\n",
    "# Example usage:\n",
    "sankey_coffee_shop_spend = create_sankey('level_1_category','Inventory')\n"
   ]
  }
 ],
 "metadata": {
  "kernelspec": {
   "display_name": "Python 3",
   "language": "python",
   "name": "python3"
  },
  "language_info": {
   "codemirror_mode": {
    "name": "ipython",
    "version": 3
   },
   "file_extension": ".py",
   "mimetype": "text/x-python",
   "name": "python",
   "nbconvert_exporter": "python",
   "pygments_lexer": "ipython3",
   "version": "3.12.3"
  }
 },
 "nbformat": 4,
 "nbformat_minor": 2
}
